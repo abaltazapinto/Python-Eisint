{
 "cells": [
  {
   "cell_type": "markdown",
   "metadata": {},
   "source": [
    "# 1. Ficheiros\n",
    "## 1.1. Ler ficheiro de texto"
   ]
  },
  {
   "cell_type": "code",
   "execution_count": 5,
   "metadata": {},
   "outputs": [
    {
     "name": "stdout",
     "output_type": "stream",
     "text": [
      "O Python é uma\n",
      "linguagem de programação\n",
      "de uso geral interpertada\n",
      "<class 'str'>\n",
      "True\n"
     ]
    }
   ],
   "source": [
    "myFile = open('teste_python.txt') # por defeito o modo de abertura é leitura\n",
    "rd = myFile.read()\n",
    "print(rd)\n",
    "print(type(rd))\n",
    "myFile.close()\n",
    "print(myFile.closed)"
   ]
  },
  {
   "cell_type": "markdown",
   "metadata": {},
   "source": [
    "## Com o comando *with* não é necessário usar o comando *close()* para fechar o ficheiro"
   ]
  },
  {
   "cell_type": "code",
   "execution_count": 6,
   "metadata": {},
   "outputs": [
    {
     "name": "stdout",
     "output_type": "stream",
     "text": [
      "O Python é uma\n",
      "linguagem de programação\n",
      "de uso geral interpertada\n",
      "True\n"
     ]
    }
   ],
   "source": [
    "with open('teste_python.txt') as myFile:\n",
    "    rd = myFile.read()\n",
    "    print(rd)\n",
    "\n",
    "print(myFile.closed)"
   ]
  },
  {
   "cell_type": "markdown",
   "metadata": {},
   "source": [
    "## Ler ficheiro e colocar conteúdo numa lista"
   ]
  },
  {
   "cell_type": "code",
   "execution_count": 13,
   "metadata": {},
   "outputs": [
    {
     "name": "stdout",
     "output_type": "stream",
     "text": [
      "O Python é uma\n",
      "\n",
      "linguagem de programação\n",
      "\n",
      "de uso geral interpertada\n",
      "False\n",
      "True\n",
      "False\n",
      "['O Python é uma\\n', 'linguagem de programação\\n', 'de uso geral interpertada']\n"
     ]
    }
   ],
   "source": [
    "with open('teste_python.txt') as myFile:\n",
    "\n",
    "    readLista = myFile.readlines()\n",
    "\n",
    "for i in readLista:\n",
    "    print(i)\n",
    "\n",
    "for i in readLista:\n",
    "    print('programa' in i)\n",
    "\n",
    "print(readLista)"
   ]
  },
  {
   "cell_type": "markdown",
   "metadata": {},
   "source": [
    "## 1.3. Obter a lista sem quebras de linha"
   ]
  },
  {
   "cell_type": "code",
   "execution_count": 14,
   "metadata": {},
   "outputs": [
    {
     "name": "stdout",
     "output_type": "stream",
     "text": [
      "O Python é uma\n",
      "linguagem de programação\n",
      "de uso geral interpertada\n"
     ]
    }
   ],
   "source": [
    "with open('teste_python.txt') as myFile:\n",
    "\n",
    "    readLista = myFile.read().splitlines()\n",
    "\n",
    "for i in readLista:\n",
    "    print(i)"
   ]
  },
  {
   "cell_type": "markdown",
   "metadata": {},
   "source": [
    "## 1.4. Criar lista separada por espaço ou quebra de linha, do conteúdo do ficheiro"
   ]
  },
  {
   "cell_type": "code",
   "execution_count": 18,
   "metadata": {},
   "outputs": [
    {
     "name": "stdout",
     "output_type": "stream",
     "text": [
      "O\n",
      "Python\n",
      "é\n",
      "uma\n",
      "linguagem\n",
      "de\n",
      "programação\n",
      "de\n",
      "uso\n",
      "geral\n",
      "interpertada\n",
      "True\n"
     ]
    }
   ],
   "source": [
    "with open('teste_python.txt') as myFile:\n",
    "\n",
    "    readLista = myFile.read().split()\n",
    "\n",
    "for i in readLista:\n",
    "    print(i)\n",
    "\n",
    "var = 'programação'\n",
    "\n",
    "print(var in readLista)"
   ]
  },
  {
   "cell_type": "markdown",
   "metadata": {},
   "source": [
    "## 1.5. Acrescentar conteúdo no ficheiro"
   ]
  },
  {
   "cell_type": "code",
   "execution_count": 23,
   "metadata": {},
   "outputs": [],
   "source": [
    "with open('teste_python.txt','a') as acrescentarFile:\n",
    "    acrescentarFile.write('Conteúdo acrescentado.\\n')"
   ]
  },
  {
   "cell_type": "code",
   "execution_count": 27,
   "metadata": {},
   "outputs": [],
   "source": [
    "import datetime as dt\n",
    "lista_criacao = ['Criado por:\\n','João Araújo\\n',f'Data: {dt.datetime.date(dt.datetime.today())}\\n']\n",
    "\n",
    "with open('teste_python.txt','a') as acrescentarFile:\n",
    "    \n",
    "    for i in lista_criacao:\n",
    "        if 'João' in i:\n",
    "            pass\n",
    "        else:\n",
    "            acrescentarFile.write(i)"
   ]
  },
  {
   "cell_type": "code",
   "execution_count": 28,
   "metadata": {},
   "outputs": [],
   "source": [
    "import datetime as dt\n",
    "lista_criacao = ['Criado por:\\n','João Araújo\\n',f'Data: {dt.datetime.date(dt.datetime.today())}\\n']\n",
    "\n",
    "with open('teste_python.txt','a') as acrescentarFile:\n",
    "    \n",
    "    acrescentarFile.writelines(lista_criacao)"
   ]
  },
  {
   "cell_type": "markdown",
   "metadata": {},
   "source": [
    "## 1.6. Escrever no Ficheiro\n",
    "\n",
    "# ATENÇÃO: Todo o conteúdo do ficheiro é eliminado e substituido pelo especificado"
   ]
  },
  {
   "cell_type": "code",
   "execution_count": 40,
   "metadata": {},
   "outputs": [],
   "source": [
    "import datetime as dt\n",
    "\n",
    "lista_criacao = ['Novo conteúdo\\n','Criado por:\\n','João Araújo\\n',f'Data: {dt.datetime.date(dt.datetime.today())}\\n']\n",
    "\n",
    "lista_criacao[-2] = f'Hora: {dt.datetime.time(dt.datetime.today())}\\n'\n",
    "\n",
    "with open('teste_python_2.txt','w') as acrescentarFile:\n",
    "    acrescentarFile.writelines(lista_criacao)"
   ]
  },
  {
   "cell_type": "markdown",
   "metadata": {},
   "source": [
    "## 1.7. Criar Ficheiro"
   ]
  },
  {
   "cell_type": "code",
   "execution_count": 44,
   "metadata": {},
   "outputs": [
    {
     "name": "stdout",
     "output_type": "stream",
     "text": [
      "O ficheiro já existe\n"
     ]
    }
   ],
   "source": [
    "import datetime as dt\n",
    "\n",
    "lista_criacao = ['Novo conteúdo\\n','Criado por:\\n','João Araújo\\n',f'Data: {dt.datetime.date(dt.datetime.today())}\\n']\n",
    "\n",
    "lista_criacao[-2] = f'Hora: {dt.datetime.time(dt.datetime.today())}\\n'\n",
    "\n",
    "try:\n",
    "    with open('teste_python_3.txt','x') as acrescentarFile:\n",
    "        acrescentarFile.writelines(lista_criacao)\n",
    "except FileExistsError:\n",
    "    print('O ficheiro já existe')"
   ]
  },
  {
   "cell_type": "code",
   "execution_count": 46,
   "metadata": {},
   "outputs": [
    {
     "name": "stdout",
     "output_type": "stream",
     "text": [
      "O ficheiro já existe\n"
     ]
    }
   ],
   "source": [
    "import datetime as dt\n",
    "\n",
    "lista_criacao = ['Novo conteúdo\\n','Criado por:\\n','João Araújo\\n',f'Data: {dt.datetime.date(dt.datetime.today())}\\n']\n",
    "\n",
    "lista_criacao[-2] = f'Hora: {dt.datetime.time(dt.datetime.today())}\\n'\n",
    "\n",
    "try:\n",
    "    with open('teste_python_4.txt','x') as acrescentarFile:\n",
    "        acrescentarFile.writelines(lista_criacao)\n",
    "except FileExistsError:\n",
    "    print('O ficheiro já existe')\n",
    "else:\n",
    "    print('Ficheiro criado e conteúdo acrescentado')"
   ]
  },
  {
   "cell_type": "markdown",
   "metadata": {},
   "source": [
    "## 1.8. Apagar Ficheiro"
   ]
  },
  {
   "cell_type": "code",
   "execution_count": 48,
   "metadata": {},
   "outputs": [
    {
     "ename": "FileNotFoundError",
     "evalue": "[WinError 2] O sistema não conseguiu localizar o ficheiro especificado: 'teste_python_4.txt'",
     "output_type": "error",
     "traceback": [
      "\u001b[1;31m---------------------------------------------------------------------------\u001b[0m",
      "\u001b[1;31mFileNotFoundError\u001b[0m                         Traceback (most recent call last)",
      "Cell \u001b[1;32mIn[48], line 3\u001b[0m\n\u001b[0;32m      1\u001b[0m \u001b[38;5;28;01mimport\u001b[39;00m \u001b[38;5;21;01mos\u001b[39;00m\n\u001b[1;32m----> 3\u001b[0m os\u001b[38;5;241m.\u001b[39mremove(\u001b[38;5;124m'\u001b[39m\u001b[38;5;124mteste_python_4.txt\u001b[39m\u001b[38;5;124m'\u001b[39m)\n",
      "\u001b[1;31mFileNotFoundError\u001b[0m: [WinError 2] O sistema não conseguiu localizar o ficheiro especificado: 'teste_python_4.txt'"
     ]
    }
   ],
   "source": [
    "import os\n",
    "\n",
    "os.remove('teste_python_4.txt')"
   ]
  }
 ],
 "metadata": {
  "kernelspec": {
   "display_name": "UFCD_10793_3_N",
   "language": "python",
   "name": "python3"
  },
  "language_info": {
   "codemirror_mode": {
    "name": "ipython",
    "version": 3
   },
   "file_extension": ".py",
   "mimetype": "text/x-python",
   "name": "python",
   "nbconvert_exporter": "python",
   "pygments_lexer": "ipython3",
   "version": "3.12.7"
  }
 },
 "nbformat": 4,
 "nbformat_minor": 2
}
