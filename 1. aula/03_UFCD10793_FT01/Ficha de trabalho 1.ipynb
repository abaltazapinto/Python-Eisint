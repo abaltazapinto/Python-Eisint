{
 "cells": [
  {
   "cell_type": "markdown",
   "metadata": {},
   "source": [
    "1. Crie uma variavel do tipo int, aplicando o método de atribuição direto"
   ]
  },
  {
   "cell_type": "code",
   "execution_count": null,
   "metadata": {},
   "outputs": [],
   "source": [
    "x = 10"
   ]
  },
  {
   "cell_type": "markdown",
   "metadata": {},
   "source": [
    "2. Crie uma variavel do tipo str, usando o método casting"
   ]
  },
  {
   "cell_type": "code",
   "execution_count": null,
   "metadata": {},
   "outputs": [],
   "source": [
    "name = str('André')"
   ]
  },
  {
   "cell_type": "markdown",
   "metadata": {},
   "source": [
    "3. Faca uma conversão de uma variavel do tipo float para str, e faca o output do tipo de variavel final"
   ]
  },
  {
   "cell_type": "code",
   "execution_count": 17,
   "metadata": {},
   "outputs": [
    {
     "name": "stdout",
     "output_type": "stream",
     "text": [
      "<class 'float'>\n",
      "<class 'str'>\n"
     ]
    }
   ],
   "source": [
    "number = float(3.6) \n",
    "\n",
    "print(type(number))\n",
    "number = str(3.6)\n",
    "print(type(number))\n"
   ]
  },
  {
   "cell_type": "markdown",
   "metadata": {},
   "source": [
    "4. Identifique quais os tipos de variaveis que sao corretos\n"
   ]
  },
  {
   "cell_type": "code",
   "execution_count": 18,
   "metadata": {},
   "outputs": [],
   "source": [
    "hello_world = 2\n",
    "\n",
    "Hello_World = 2\n",
    "\n",
    "helloWorld = 2"
   ]
  },
  {
   "cell_type": "markdown",
   "metadata": {},
   "source": [
    "5. Faça um programa que o utlizador introduz o seu nome, e no output apresenta o mesmo tipo de variavel que o seu nome foi atribuido"
   ]
  },
  {
   "cell_type": "code",
   "execution_count": 19,
   "metadata": {},
   "outputs": [
    {
     "name": "stdout",
     "output_type": "stream",
     "text": [
      "<class 'str'>\n"
     ]
    }
   ],
   "source": [
    "nome =input(\"Qual é o seu nome?\")\n",
    "\n",
    "print(type(nome))"
   ]
  },
  {
   "cell_type": "markdown",
   "metadata": {},
   "source": [
    "6. Atribua o mesmo elemento a três variáveis distintas, usando pelo menos uma linha de comando"
   ]
  },
  {
   "cell_type": "code",
   "execution_count": 21,
   "metadata": {},
   "outputs": [],
   "source": [
    "sameElement = b = c  = 3"
   ]
  },
  {
   "cell_type": "markdown",
   "metadata": {},
   "source": [
    "7. Crie cinco variaveis do tipo str e coloque um output que apresente uma linha de comando. Coloque um output que apresenta a soma dessas três variáveis"
   ]
  },
  {
   "cell_type": "code",
   "execution_count": 26,
   "metadata": {},
   "outputs": [
    {
     "name": "stdout",
     "output_type": "stream",
     "text": [
      "primeira\n",
      "segunda\n",
      "terceira\n",
      "quarta\n",
      "quinta\n"
     ]
    }
   ],
   "source": [
    "variavel1 = str(\"primeira\")\n",
    "variavel2 = str(\"segunda\")\n",
    "variavel3 = str(\"terceira\")\n",
    "variavel4 = str(\"quarta\")\n",
    "variavel5 = str(\"quinta\")\n",
    "\n",
    "print(variavel1, variavel2, variavel3, variavel4, variavel5, sep='\\n')"
   ]
  },
  {
   "cell_type": "markdown",
   "metadata": {},
   "source": [
    "9. Faça um programa que o utilizador introduz os seguintes dados\n",
    "\n",
    "- Primeiro Nome (str) \n",
    "- Ultimo Nome (str) \n",
    "- Idade (int) \n",
    "- Peso (float)"
   ]
  },
  {
   "cell_type": "code",
   "execution_count": 28,
   "metadata": {},
   "outputs": [
    {
     "name": "stdout",
     "output_type": "stream",
     "text": [
      "Andre\n",
      "Pinto\n",
      "32\n",
      "70.0\n"
     ]
    }
   ],
   "source": [
    "primeiro_nome = input(\"INtroduz o teu primeiro nome\")\n",
    "\n",
    "ultimo_nome = input(\"Intoduz agora o teu ultimo nome\")\n",
    "\n",
    "idade = int(input(\"Introduz agora a tua idade\"))\n",
    "\n",
    "peso = float(input(\"Intoduz o teu peso\"))\n",
    "\n",
    "print(primeiro_nome, ultimo_nome, idade, peso, sep='\\n')"
   ]
  },
  {
   "cell_type": "markdown",
   "metadata": {},
   "source": [
    "10. Crie uma lista de valores introduzidos pelo utilizador, e apresente um output dos elementos introduzidos"
   ]
  },
  {
   "cell_type": "code",
   "execution_count": 29,
   "metadata": {},
   "outputs": [
    {
     "name": "stdout",
     "output_type": "stream",
     "text": [
      "[7, 5, 6, 4, 5, 2, 6]\n"
     ]
    }
   ],
   "source": [
    "numbers = []\n",
    "while True:\n",
    "    user_input = input(\"Introduz um numbero (ou q para sair): \")\n",
    "    if user_input.lower() == 'q':\n",
    "        break\n",
    "    numbers.append(int(user_input))\n",
    "print(numbers)"
   ]
  },
  {
   "cell_type": "markdown",
   "metadata": {},
   "source": [
    "11. Crie dicionários de 5 pessoas com os seguintes dados\n",
    "\n",
    "- Nome\n",
    "- idade\n",
    "- profissao"
   ]
  },
  {
   "cell_type": "code",
   "execution_count": 30,
   "metadata": {},
   "outputs": [],
   "source": [
    "people_dict = {\n",
    "    \"1\": {\"nome\": \"Antonio David\", \"idade\": 30, \"profissao\": \"Engineer\"},\n",
    "    \"2\": {\"nome\": \"Patricia Sousa\", \"idade\": 25, \"profissao\": \"Teacher\"},\n",
    "    \"3\": {\"nome\": \"Carlos Joao\", \"idade\": 40, \"profissao\": \"Doctor\"},\n",
    "    \"4\": {\"nome\": \"Alice Beatriz\", \"idade\": 28, \"profissao\": \"Lawyer\"},\n",
    "    \"5\": {\"nome\": \"Miguel David\", \"idade\": 35, \"profissao\": \"Programmer\"}\n",
    "}"
   ]
  },
  {
   "cell_type": "markdown",
   "metadata": {},
   "source": [
    "12. Crie a seguinte variavel do tipo string: FormacaodePythonéespectacular\n",
    "crie um output que apresente a frase com os espacos correctos"
   ]
  },
  {
   "cell_type": "code",
   "execution_count": 31,
   "metadata": {},
   "outputs": [
    {
     "name": "stdout",
     "output_type": "stream",
     "text": [
      "Formação de Python é espetacular\n"
     ]
    }
   ],
   "source": [
    "\n",
    "texto = \"FormaçãodePythonéespetacular\"\n",
    "\n",
    "texto_corrigido = texto.replace(\"de\", \" de \").replace(\"é\", \" é \")\n",
    "print(texto_corrigido)"
   ]
  },
  {
   "cell_type": "markdown",
   "metadata": {},
   "source": [
    "13.    A  partir  dos  dicionários  criados  na  pergunta  11,  crie  uma  lista  com  as  idades \n",
    "contidas"
   ]
  },
  {
   "cell_type": "code",
   "execution_count": 34,
   "metadata": {},
   "outputs": [
    {
     "name": "stdout",
     "output_type": "stream",
     "text": [
      "[30, 25, 40, 28, 35]\n"
     ]
    }
   ],
   "source": [
    "idades = [pessoa[\"idade\"] for pessoa in people_dict.values()]\n",
    "print(idades)"
   ]
  },
  {
   "cell_type": "markdown",
   "metadata": {},
   "source": [
    "14.  Crie  um  programa  que  faça  uma  operação  de  multiplicação  entre  dois  numeros \n",
    "introduzidos pelo utilizador e apresente o resultado."
   ]
  },
  {
   "cell_type": "code",
   "execution_count": 35,
   "metadata": {},
   "outputs": [
    {
     "name": "stdout",
     "output_type": "stream",
     "text": [
      "O resultado da multiplicação é: 552.0\n"
     ]
    }
   ],
   "source": [
    "num1 = float(input(\"Digite o primeiro número: \"))\n",
    "num2 = float(input(\"Digite o segundo número: \"))\n",
    "\n",
    "resultado = num1 * num2\n",
    "print(f\"O resultado da multiplicação é: {resultado}\")"
   ]
  },
  {
   "cell_type": "markdown",
   "metadata": {},
   "source": [
    "15. Desenvolva um programa que apresente se um numero introduzido pelo \n",
    "utilizador é par ou impar. "
   ]
  },
  {
   "cell_type": "code",
   "execution_count": 36,
   "metadata": {},
   "outputs": [
    {
     "name": "stdout",
     "output_type": "stream",
     "text": [
      "O número é par.\n"
     ]
    }
   ],
   "source": [
    "numero = int(input(\"Digite um número: \"))\n",
    "\n",
    "if numero % 2 == 0:\n",
    "    print(\"O número é par.\")\n",
    "else:\n",
    "    print(\"O número é ímpar.\")"
   ]
  },
  {
   "cell_type": "markdown",
   "metadata": {},
   "source": [
    "16. Verifique se nos dicionários criados na pregunta 11, existe o nome João"
   ]
  },
  {
   "cell_type": "code",
   "execution_count": 44,
   "metadata": {},
   "outputs": [
    {
     "name": "stdout",
     "output_type": "stream",
     "text": [
      "O nome Carlos Joao está no dicionário.\n"
     ]
    }
   ],
   "source": [
    "nome_procurado = \"Carlos Joao\"\n",
    "\n",
    "encontrado = any(pessoa[\"nome\"] == nome_procurado for pessoa in people_dict.values())\n",
    "\n",
    "if encontrado:\n",
    "    print(f\"O nome {nome_procurado} está no dicionário.\")\n",
    "else:\n",
    "    print(f\"O nome {nome_procurado} não está no dicionário.\")\n"
   ]
  },
  {
   "cell_type": "markdown",
   "metadata": {},
   "source": [
    "17. Se o utilizador introduzir 3 numeros, verifique todas as seguintes condicoes\n",
    "\n",
    "- É maior do que zero\n",
    "- É menor ou igual a 10\n",
    "- É diferente de 7"
   ]
  },
  {
   "cell_type": "code",
   "execution_count": 45,
   "metadata": {},
   "outputs": [
    {
     "name": "stdout",
     "output_type": "stream",
     "text": [
      "O número 3.0 é maior que zero.\n",
      "O número 3.0 é menor ou igual a 10.\n",
      "O número 3.0 é diferente de 7.\n",
      "O número 20.0 é maior que zero.\n",
      "O número 20.0 é diferente de 7.\n",
      "O número 15.0 é maior que zero.\n",
      "O número 15.0 é diferente de 7.\n"
     ]
    }
   ],
   "source": [
    "num1 = float(input(\"Digite o primeiro número: \"))\n",
    "num2 = float(input(\"Digite o segundo número: \"))\n",
    "num3 = float(input(\"Digite o terceiro número: \"))\n",
    "\n",
    "for num in [num1, num2, num3]:\n",
    "    if num > 0:\n",
    "        print(f\"O número {num} é maior que zero.\")\n",
    "    if num <= 10:\n",
    "        print(f\"O número {num} é menor ou igual a 10.\")\n",
    "    if num != 7:\n",
    "        print(f\"O número {num} é diferente de 7.\")"
   ]
  },
  {
   "cell_type": "markdown",
   "metadata": {},
   "source": []
  }
 ],
 "metadata": {
  "kernelspec": {
   "display_name": "base",
   "language": "python",
   "name": "python3"
  },
  "language_info": {
   "codemirror_mode": {
    "name": "ipython",
    "version": 3
   },
   "file_extension": ".py",
   "mimetype": "text/x-python",
   "name": "python",
   "nbconvert_exporter": "python",
   "pygments_lexer": "ipython3",
   "version": "3.12.7"
  }
 },
 "nbformat": 4,
 "nbformat_minor": 2
}
