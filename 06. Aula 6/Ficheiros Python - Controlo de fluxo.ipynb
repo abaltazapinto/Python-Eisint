{
 "cells": [
  {
   "cell_type": "code",
   "execution_count": 4,
   "metadata": {},
   "outputs": [
    {
     "name": "stdout",
     "output_type": "stream",
     "text": [
      "nao foi possivel converter o input  para int\n",
      "Programa terminado\n"
     ]
    }
   ],
   "source": [
    "a = input('Coloque um denominador')\n",
    "\n",
    "try: #obrigatorio\n",
    "    a = int(a)\n",
    "    float(1/a)\n",
    "except (ValueError, TypeError): # obrigatorio\n",
    "    print(f'nao foi possivel converter o input {a} para int')\n",
    "except ZeroDivisionError: # opcional\n",
    "    print('Não é possivel dividir por zero')\n",
    "except:\n",
    "    print('Erro desconhecido \\nContactar administrador do programa.')\n",
    "else: \n",
    "    print('Programa Terminado')\n",
    "    \n",
    "finally: # opcional:Executa sempre que o bloco try ou except foi executado\n",
    "    print('Programa terminado')\n"
   ]
  },
  {
   "cell_type": "markdown",
   "metadata": {},
   "source": [
    "# Contemplar excepcoes para o input do utilizador"
   ]
  },
  {
   "cell_type": "code",
   "execution_count": null,
   "metadata": {},
   "outputs": [
    {
     "name": "stdout",
     "output_type": "stream",
     "text": [
      " não é um numero inteiro\n",
      " não é um numero inteiro\n",
      " não é um numero inteiro\n",
      " não é um numero inteiro\n",
      " não é um numero inteiro\n",
      " não é um numero inteiro\n",
      " não é um numero inteiro\n",
      "fdsaf não é um numero inteiro\n",
      " não é um numero inteiro\n",
      " não é um numero inteiro\n",
      " não é um numero inteiro\n",
      " não é um numero inteiro\n"
     ]
    }
   ],
   "source": []
  },
  {
   "cell_type": "code",
   "execution_count": null,
   "metadata": {},
   "outputs": [],
   "source": [
    "while True:\n",
    "    data = input('Introduza um numero inteiro')\n",
    "    try:\n",
    "        data = int(data)\n",
    "    except:\n",
    "        if data.upper() == 'X':\n",
    "            break\n",
    "        else:\n",
    "            print(f'{data} não é um numero inteiro')\n",
    "            input('Pressione enter para continuar')\n",
    "    else:\n",
    "        print(f'Valor {data} é um numero inteiro. \\nValor OK')\n",
    "        input('Pressione enter para continuar')\n",
    "        \n",
    "        \n",
    "print('Programa terminado')"
   ]
  }
 ],
 "metadata": {
  "kernelspec": {
   "display_name": "base",
   "language": "python",
   "name": "python3"
  },
  "language_info": {
   "codemirror_mode": {
    "name": "ipython",
    "version": 3
   },
   "file_extension": ".py",
   "mimetype": "text/x-python",
   "name": "python",
   "nbconvert_exporter": "python",
   "pygments_lexer": "ipython3",
   "version": "3.12.7"
  }
 },
 "nbformat": 4,
 "nbformat_minor": 2
}
