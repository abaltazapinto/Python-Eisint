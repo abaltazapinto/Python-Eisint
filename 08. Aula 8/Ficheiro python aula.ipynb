{
 "cells": [
  {
   "cell_type": "markdown",
   "metadata": {},
   "source": [
    "1,1 IMPORTAS a biblioteca csv do Python"
   ]
  },
  {
   "cell_type": "code",
   "execution_count": 1,
   "metadata": {},
   "outputs": [],
   "source": [
    "import csv"
   ]
  },
  {
   "cell_type": "markdown",
   "metadata": {},
   "source": [
    "import csv"
   ]
  },
  {
   "cell_type": "markdown",
   "metadata": {},
   "source": [
    "1.2 Ler o ficheiro CSV"
   ]
  },
  {
   "cell_type": "code",
   "execution_count": 4,
   "metadata": {},
   "outputs": [],
   "source": [
    "openCSVFile = open('courseid_1715_participants.csv')\n",
    "\n",
    "# Criar um leitor de ficheiro CSV\n",
    "csv_reader = csv.reader(openCSVFile)"
   ]
  },
  {
   "cell_type": "code",
   "execution_count": 7,
   "metadata": {},
   "outputs": [
    {
     "name": "stdout",
     "output_type": "stream",
     "text": [
      "['__class__', '__delattr__', '__dir__', '__doc__', '__eq__', '__format__', '__ge__', '__getattribute__', '__getstate__', '__gt__', '__hash__', '__init__', '__init_subclass__', '__iter__', '__le__', '__lt__', '__module__', '__ne__', '__new__', '__next__', '__reduce__', '__reduce_ex__', '__repr__', '__setattr__', '__sizeof__', '__str__', '__subclasshook__', 'dialect', 'line_num']\n"
     ]
    }
   ],
   "source": [
    "print(dir(csv_reader)) # visualizar as propriedasdes e funcoes para um tipo de dado\n",
    "\n",
    "\n",
    "# a funcao csv.reader é um iterador \n",
    "# Usar o comando next() para comecar a iteracao, e iterar em cada uma das linhas de ficheiro csv\n",
    "\n"
   ]
  },
  {
   "cell_type": "code",
   "execution_count": 8,
   "metadata": {},
   "outputs": [
    {
     "name": "stdout",
     "output_type": "stream",
     "text": [
      "['Jorman Jose', 'Agreda Bracamonte', '']\n"
     ]
    }
   ],
   "source": [
    "print(next(csv_reader)) "
   ]
  },
  {
   "cell_type": "code",
   "execution_count": null,
   "metadata": {},
   "outputs": [],
   "source": [
    "openCSVFile,close()"
   ]
  },
  {
   "cell_type": "code",
   "execution_count": 18,
   "metadata": {},
   "outputs": [],
   "source": [
    "with open('courseid_1715_participants.csv') as openCSVFile:\n",
    "    csv_reader = csv.reader(openCSVFile)\n",
    "\n",
    "    header = next(csv_reader)\n",
    "\n",
    "    data = []\n",
    "\n",
    "    for row in csv_reader:\n",
    "        pnome = row[0]\n",
    "        unome = row[1]\n",
    "        data.append([pnome,unome,email])"
   ]
  },
  {
   "cell_type": "code",
   "execution_count": null,
   "metadata": {},
   "outputs": [],
   "source": []
  }
 ],
 "metadata": {
  "kernelspec": {
   "display_name": "myenv",
   "language": "python",
   "name": "python3"
  },
  "language_info": {
   "codemirror_mode": {
    "name": "ipython",
    "version": 3
   },
   "file_extension": ".py",
   "mimetype": "text/x-python",
   "name": "python",
   "nbconvert_exporter": "python",
   "pygments_lexer": "ipython3",
   "version": "3.12.3"
  }
 },
 "nbformat": 4,
 "nbformat_minor": 2
}
