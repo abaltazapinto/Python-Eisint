{
 "cells": [
  {
   "cell_type": "markdown",
   "metadata": {},
   "source": [
    "# 3.4 Trabalhar com listas"
   ]
  },
  {
   "cell_type": "markdown",
   "metadata": {},
   "source": []
  },
  {
   "cell_type": "code",
   "execution_count": null,
   "metadata": {},
   "outputs": [
    {
     "data": {
      "text/plain": [
       "[4, 16, 25]"
      ]
     },
     "execution_count": 1,
     "metadata": {},
     "output_type": "execute_result"
    }
   ],
   "source": [
    "squares = [1, 4, 16, 25]\n",
    "#          0, 1, 2, 3, 4\n",
    "#          -5, -4, -3, -1\n",
    "\n",
    "squares[2] # INdexacao directa: devolve o elemento da posicao, neste caso int\n",
    "squares[-3] # Indexacao directa: devolve o elemento da posicao. neste caso int Indexacao negativa\n",
    "squares[-3:]"
   ]
  },
  {
   "cell_type": "markdown",
   "metadata": {},
   "source": [
    "### 3.4.1. Concatenacao de listas"
   ]
  },
  {
   "cell_type": "code",
   "execution_count": 7,
   "metadata": {},
   "outputs": [
    {
     "name": "stdout",
     "output_type": "stream",
     "text": [
      "[1, 4, 16, 25, 36, 49, 65, 81, 100, 11.3, 'Joao', True, 15]\n"
     ]
    }
   ],
   "source": [
    "squares2 = [36, 49, 65, 81, 100]\n",
    "\n",
    "conSquares = squares + squares2\n",
    "\n",
    "rand_list = [11.3, 'Joao', True, 0b1111]\n",
    "\n",
    "print(conSquares + rand_list)"
   ]
  },
  {
   "cell_type": "code",
   "execution_count": null,
   "metadata": {},
   "outputs": [
    {
     "name": "stdout",
     "output_type": "stream",
     "text": [
      "[1, 4, 16, 25, 36, 49, 63, 81, 100]\n"
     ]
    }
   ],
   "source": [
    "conSquares[-3] = 63\n",
    "print(conSquares)"
   ]
  },
  {
   "cell_type": "code",
   "execution_count": 10,
   "metadata": {},
   "outputs": [
    {
     "ename": "ValueError",
     "evalue": "65 is not in list",
     "output_type": "error",
     "traceback": [
      "\u001b[0;31m---------------------------------------------------------------------------\u001b[0m",
      "\u001b[0;31mValueError\u001b[0m                                Traceback (most recent call last)",
      "Cell \u001b[0;32mIn[10], line 1\u001b[0m\n\u001b[0;32m----> 1\u001b[0m rep_index \u001b[38;5;241m=\u001b[39m conSquares\u001b[38;5;241m.\u001b[39mindex(\u001b[38;5;241m65\u001b[39m)\n\u001b[1;32m      2\u001b[0m conSquares[rep_index] \u001b[38;5;241m=\u001b[39m \u001b[38;5;241m64\u001b[39m\n",
      "\u001b[0;31mValueError\u001b[0m: 65 is not in list"
     ]
    }
   ],
   "source": [
    "rep_index = conSquares.index(65)\n",
    "conSquares[rep_index] = 64"
   ]
  },
  {
   "cell_type": "markdown",
   "metadata": {},
   "source": [
    "# 3.4.2. Acrescentar no final da lista"
   ]
  },
  {
   "cell_type": "code",
   "execution_count": 19,
   "metadata": {},
   "outputs": [],
   "source": [
    "squares.append(36) # coloca um elemento no final da lista e altera o conteudo da variavel"
   ]
  },
  {
   "cell_type": "code",
   "execution_count": null,
   "metadata": {},
   "outputs": [],
   "source": [
    "squares4 = squares + [49] # coloca um elemento no final da lista, sem alterar a variável original"
   ]
  },
  {
   "cell_type": "code",
   "execution_count": null,
   "metadata": {},
   "outputs": [],
   "source": [
    "squares = square + [49] # Declaracao explicita que alter a variavel original"
   ]
  },
  {
   "cell_type": "markdown",
   "metadata": {},
   "source": [
    "# 3.4.3 Numero de ocorrencias de uma lista"
   ]
  },
  {
   "cell_type": "code",
   "execution_count": null,
   "metadata": {},
   "outputs": [
    {
     "data": {
      "text/plain": [
       "1"
      ]
     },
     "execution_count": 21,
     "metadata": {},
     "output_type": "execute_result"
    }
   ],
   "source": [
    "lenLista = len(conSquares) # obter numero de elementos da lista\n",
    "\n",
    "conSquares.count(49) # Obter "
   ]
  },
  {
   "cell_type": "markdown",
   "metadata": {},
   "source": [
    "### 3.4.4 Substituir e remover elementos da lista"
   ]
  },
  {
   "cell_type": "code",
   "execution_count": null,
   "metadata": {},
   "outputs": [],
   "source": [
    "letraString = 'a b c d e f g'\n",
    "\n",
    "listString = letraString.split()\n",
    "\n",
    "numeros = [1,2,3,4,5,6,7]\n",
    "newList = numeros[4:] + listString[4:]\n",
    "\n",
    "numeros[4:] = listString[4:]"
   ]
  }
 ],
 "metadata": {
  "kernelspec": {
   "display_name": "base",
   "language": "python",
   "name": "python3"
  },
  "language_info": {
   "codemirror_mode": {
    "name": "ipython",
    "version": 3
   },
   "file_extension": ".py",
   "mimetype": "text/x-python",
   "name": "python",
   "nbconvert_exporter": "python",
   "pygments_lexer": "ipython3",
   "version": "3.12.7"
  }
 },
 "nbformat": 4,
 "nbformat_minor": 2
}
