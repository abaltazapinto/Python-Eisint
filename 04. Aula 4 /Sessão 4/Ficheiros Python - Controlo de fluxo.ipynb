{
 "cells": [
  {
   "cell_type": "markdown",
   "metadata": {},
   "source": [
    "# Controlo de fluxo\n",
    "# 1. Estruturas de seleção\n",
    "## 1.1. Condição IF"
   ]
  },
  {
   "cell_type": "code",
   "execution_count": 8,
   "metadata": {},
   "outputs": [],
   "source": [
    "x = 40\n",
    "y = 0\n",
    "\n",
    "if x <= 10:\n",
    "    print(f'{x} é maior ou igual a 10')\n",
    "    x += 20\n",
    "    y += 10\n",
    "    print(f'Resultado de x:{x}\\nResultado de y:{y}')\n",
    "\n",
    "if 20 < x <= 30:\n",
    "    print('x está entre 20 e 30')\n",
    "\n",
    "if x > 20 and x <= 30:\n",
    "    print('x está entre 20 e 30')"
   ]
  },
  {
   "cell_type": "markdown",
   "metadata": {},
   "source": [
    "## 1.2. Condição IF-ELSE"
   ]
  },
  {
   "cell_type": "code",
   "execution_count": 13,
   "metadata": {},
   "outputs": [
    {
     "name": "stdout",
     "output_type": "stream",
     "text": [
      "25 está fora do intervalo entre 10 e 21\n"
     ]
    }
   ],
   "source": [
    "x = 25\n",
    "\n",
    "if 10 <= x <= 21:\n",
    "    print(f'{x} está entre 10 e 21 inclusivé')\n",
    "    x += 20\n",
    "    y += 10\n",
    "else:\n",
    "    print(f'{x} está fora do intervalo entre 10 e 21')\n",
    "    x += 50\n",
    "    y += 20"
   ]
  },
  {
   "cell_type": "markdown",
   "metadata": {},
   "source": [
    "## 1.3. Condição IF-ELSE reduzida"
   ]
  },
  {
   "cell_type": "code",
   "execution_count": 15,
   "metadata": {},
   "outputs": [
    {
     "name": "stdout",
     "output_type": "stream",
     "text": [
      "15 está entre 10 e 21 inclusivé\n"
     ]
    }
   ],
   "source": [
    "x = 15\n",
    "\n",
    "print(f'{x} está entre 10 e 21 inclusivé') if 10 <= x <= 21 else print(f'{x} está fora do intervalo entre 10 e 21')"
   ]
  }
 ],
 "metadata": {
  "kernelspec": {
   "display_name": "UFCD_10793_3_N",
   "language": "python",
   "name": "python3"
  },
  "language_info": {
   "codemirror_mode": {
    "name": "ipython",
    "version": 3
   },
   "file_extension": ".py",
   "mimetype": "text/x-python",
   "name": "python",
   "nbconvert_exporter": "python",
   "pygments_lexer": "ipython3",
   "version": "3.12.7"
  }
 },
 "nbformat": 4,
 "nbformat_minor": 2
}
