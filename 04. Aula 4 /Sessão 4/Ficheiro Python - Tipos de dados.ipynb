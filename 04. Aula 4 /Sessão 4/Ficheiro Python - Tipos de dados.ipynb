{
 "cells": [
  {
   "cell_type": "markdown",
   "metadata": {},
   "source": [
    "# 1.Tipos de dados\n",
    "## 1.1. Dados singurares"
   ]
  },
  {
   "cell_type": "code",
   "execution_count": 4,
   "metadata": {},
   "outputs": [],
   "source": [
    "varInt = 10\n",
    "varFloat = 1.9\n",
    "varComplex = 1 + 2j\n",
    "carString = 'Python'\n",
    "varBool = True # ou False\n",
    "varBytes = b'111011101010'"
   ]
  },
  {
   "cell_type": "markdown",
   "metadata": {},
   "source": [
    "## Método *casting* para todos os tipos de dados singulares"
   ]
  },
  {
   "cell_type": "code",
   "execution_count": 19,
   "metadata": {},
   "outputs": [],
   "source": [
    "varIntCasting = int('12345678')\n",
    "varFloatCasting = float('19,5'.replace(',','.'))\n",
    "varComplexCasting = complex(25)\n",
    "varStringCasting = str(555)\n",
    "varBoolCasting = bool(0.0) # Para ser False, obrigatoriamente terá que ser 0, seja em int, float ou str\n",
    "varBytesCasting = bytes('^','UTF-8')"
   ]
  },
  {
   "cell_type": "markdown",
   "metadata": {},
   "source": [
    "## 1.2. Coleção de dados\n",
    "### 1.2.1. Listas"
   ]
  },
  {
   "cell_type": "code",
   "execution_count": 9,
   "metadata": {},
   "outputs": [
    {
     "name": "stdout",
     "output_type": "stream",
     "text": [
      "40\n",
      "Nome da pessoa: João Araújo\n",
      "Idade da pessoa: 40\n",
      "Altura da pessoa: 1.78\n"
     ]
    }
   ],
   "source": [
    "varList = ['João','Araújo', 40, 1.78, True]\n",
    "# indices    0       1       2    3    4\n",
    "\n",
    "print(varList[2])\n",
    "\n",
    "print(f'Nome da pessoa: {varList[0]} {varList[1]}\\nIdade da pessoa: {varList[2]}\\nAltura da pessoa: {varList[3]}')"
   ]
  },
  {
   "cell_type": "markdown",
   "metadata": {},
   "source": [
    "## Elementos repetidos e substituição"
   ]
  },
  {
   "cell_type": "code",
   "execution_count": 10,
   "metadata": {},
   "outputs": [
    {
     "name": "stdout",
     "output_type": "stream",
     "text": [
      "['João', 'Pedro', 'Araújo', 40, 1.78, True]\n"
     ]
    }
   ],
   "source": [
    "varList = ['João','Araújo', 'Araújo', 40, 1.78, True]\n",
    "# indices    0       1          2      3    4    5\n",
    "\n",
    "varList[1] = 'Pedro'\n",
    "\n",
    "print(varList)"
   ]
  },
  {
   "cell_type": "markdown",
   "metadata": {},
   "source": [
    "## Eliminar elementos por conteúdo"
   ]
  },
  {
   "cell_type": "code",
   "execution_count": 11,
   "metadata": {},
   "outputs": [
    {
     "name": "stdout",
     "output_type": "stream",
     "text": [
      "['João', 'Pedro', 'Araújo', 1.78, True]\n"
     ]
    }
   ],
   "source": [
    "# Criar backup da lista original com a função copy()\n",
    "\n",
    "varList2 = varList.copy()\n",
    "\n",
    "varList2.remove(40)\n",
    "\n",
    "print(varList2)"
   ]
  },
  {
   "cell_type": "code",
   "execution_count": 12,
   "metadata": {},
   "outputs": [
    {
     "name": "stdout",
     "output_type": "stream",
     "text": [
      "1.78\n"
     ]
    }
   ],
   "source": [
    "print(varList2[3]) # Redefinição da indexação da lista após a operação de eliminar conteúdo"
   ]
  },
  {
   "cell_type": "markdown",
   "metadata": {},
   "source": [
    "### 1.2.2. Tuplos ou *Tuple*"
   ]
  },
  {
   "cell_type": "code",
   "execution_count": null,
   "metadata": {},
   "outputs": [
    {
     "name": "stdout",
     "output_type": "stream",
     "text": [
      "Araújo\n",
      "1\n",
      "3\n"
     ]
    }
   ],
   "source": [
    "varTuple = ('João','Araújo', 40, 1.78, True)\n",
    "# indices    0       1       2    3    4\n",
    "\n",
    "varTuple2 = 'João','Araújo', 40, 1.78, True\n",
    "# indices    0       1       2    3    4\n",
    "\n",
    "# varTuple[0] = 'Pedro' -> Operação inválida. Não é possivel alterar conteúdo num tuplo\n",
    "\n",
    "print(varTuple[1])\n",
    "\n",
    "print(varTuple.count(40))\n",
    "\n",
    "print(varTuple.index(1.78))"
   ]
  },
  {
   "cell_type": "markdown",
   "metadata": {},
   "source": [
    "## Método casting em coleção de dados\n",
    "### Lista para Tuplo"
   ]
  },
  {
   "cell_type": "code",
   "execution_count": 36,
   "metadata": {},
   "outputs": [],
   "source": [
    "varListToTuple = tuple(varList)"
   ]
  },
  {
   "cell_type": "code",
   "execution_count": 37,
   "metadata": {},
   "outputs": [
    {
     "name": "stdout",
     "output_type": "stream",
     "text": [
      "['__add__', '__class__', '__class_getitem__', '__contains__', '__delattr__', '__delitem__', '__dir__', '__doc__', '__eq__', '__format__', '__ge__', '__getattribute__', '__getitem__', '__getstate__', '__gt__', '__hash__', '__iadd__', '__imul__', '__init__', '__init_subclass__', '__iter__', '__le__', '__len__', '__lt__', '__mul__', '__ne__', '__new__', '__reduce__', '__reduce_ex__', '__repr__', '__reversed__', '__rmul__', '__setattr__', '__setitem__', '__sizeof__', '__str__', '__subclasshook__', 'append', 'clear', 'copy', 'count', 'extend', 'index', 'insert', 'pop', 'remove', 'reverse', 'sort']\n"
     ]
    }
   ],
   "source": [
    "print(dir(varList))"
   ]
  },
  {
   "cell_type": "markdown",
   "metadata": {},
   "source": [
    "### Tuplo para lista"
   ]
  },
  {
   "cell_type": "code",
   "execution_count": 38,
   "metadata": {},
   "outputs": [],
   "source": [
    "varTupleToList = list(varTuple)"
   ]
  },
  {
   "cell_type": "markdown",
   "metadata": {},
   "source": [
    "# ATENÇÃO: NÃO FAZER O QUE ESTÁ ABAIXO"
   ]
  },
  {
   "cell_type": "code",
   "execution_count": null,
   "metadata": {},
   "outputs": [],
   "source": [
    "varTuple = list(varTuple) # Declaração explicita de conversão de tuplo para lista"
   ]
  },
  {
   "cell_type": "markdown",
   "metadata": {},
   "source": [
    "### 1.2.3. *Set*"
   ]
  },
  {
   "cell_type": "code",
   "execution_count": null,
   "metadata": {},
   "outputs": [],
   "source": [
    "varSet= {'Reunião','às','11h','escritório','sexta-feira',25.5,'11h'}\n"
   ]
  },
  {
   "cell_type": "markdown",
   "metadata": {},
   "source": [
    "## Set permite adicionar conteúdo, se este não existir"
   ]
  },
  {
   "cell_type": "code",
   "execution_count": null,
   "metadata": {},
   "outputs": [],
   "source": [
    "varSet.add(25.5) # Não adiciona porque o numero 25.5 já existe"
   ]
  },
  {
   "cell_type": "code",
   "execution_count": 4,
   "metadata": {},
   "outputs": [],
   "source": [
    "varSet.add('25.5')"
   ]
  },
  {
   "cell_type": "code",
   "execution_count": 5,
   "metadata": {},
   "outputs": [],
   "source": [
    "varSet.add('João')"
   ]
  },
  {
   "cell_type": "code",
   "execution_count": 6,
   "metadata": {},
   "outputs": [
    {
     "data": {
      "text/plain": [
       "True"
      ]
     },
     "execution_count": 6,
     "metadata": {},
     "output_type": "execute_result"
    }
   ],
   "source": [
    "nome = 'João'\n",
    "\n",
    "nome in varSet"
   ]
  },
  {
   "cell_type": "markdown",
   "metadata": {},
   "source": [
    "## Remover conteúdo do *Set*"
   ]
  },
  {
   "cell_type": "code",
   "execution_count": 8,
   "metadata": {},
   "outputs": [
    {
     "ename": "KeyError",
     "evalue": "'25.5'",
     "output_type": "error",
     "traceback": [
      "\u001b[1;31m---------------------------------------------------------------------------\u001b[0m",
      "\u001b[1;31mKeyError\u001b[0m                                  Traceback (most recent call last)",
      "Cell \u001b[1;32mIn[8], line 1\u001b[0m\n\u001b[1;32m----> 1\u001b[0m varSet\u001b[38;5;241m.\u001b[39mremove(\u001b[38;5;124m'\u001b[39m\u001b[38;5;124m25.5\u001b[39m\u001b[38;5;124m'\u001b[39m)\n",
      "\u001b[1;31mKeyError\u001b[0m: '25.5'"
     ]
    }
   ],
   "source": [
    "varSet.remove('25.5')"
   ]
  },
  {
   "cell_type": "markdown",
   "metadata": {},
   "source": [
    "## Colocar coleção de dados dentro de um *Set*"
   ]
  },
  {
   "cell_type": "code",
   "execution_count": 13,
   "metadata": {},
   "outputs": [],
   "source": [
    "varSet.update(varList)"
   ]
  },
  {
   "cell_type": "code",
   "execution_count": null,
   "metadata": {},
   "outputs": [],
   "source": [
    "varSetCasting = set(varList) # Filtragem de elementos repetidos em variáveis iteráveis"
   ]
  },
  {
   "cell_type": "markdown",
   "metadata": {},
   "source": [
    "### 1.2.4. Dicionários"
   ]
  },
  {
   "cell_type": "code",
   "execution_count": 16,
   "metadata": {},
   "outputs": [
    {
     "name": "stdout",
     "output_type": "stream",
     "text": [
      "João Araújo\n"
     ]
    }
   ],
   "source": [
    "varDict = {'pnome':'João','unome':'Araújo','idade':40,'altura':1.78}\n",
    "\n",
    "print(varDict['pnome'], varDict['unome'])"
   ]
  },
  {
   "cell_type": "code",
   "execution_count": 1,
   "metadata": {},
   "outputs": [
    {
     "name": "stdout",
     "output_type": "stream",
     "text": [
      "25\n",
      "1.75\n"
     ]
    }
   ],
   "source": [
    "varDicAlt = {\n",
    "    0 : {'pnome':'João','unome':'Araújo','idade':40,'altura':1.78},\n",
    "    1 : {'pnome':'Ana','unome':'Pacheco','idade':25,'altura':1.80},\n",
    "    2 : {'pnome':'Nuno','unome':'Garcez','idade':28,'altura':1.75}\n",
    "}\n",
    "\n",
    "'''\n",
    "    pnome   unome   idade   altura\n",
    "0   João    Araújo  40      1.78\n",
    "1   Ana     Pacheco 25      1.80\n",
    "2   Nuno    Garcez  28      1.75\n",
    "\n",
    "'''\n",
    "\n",
    "print(varDicAlt[1]['idade'])\n",
    "\n",
    "print(varDicAlt[2]['altura'])"
   ]
  },
  {
   "cell_type": "code",
   "execution_count": 4,
   "metadata": {},
   "outputs": [
    {
     "name": "stdout",
     "output_type": "stream",
     "text": [
      "A idade da aluna Ana Pacheco é de 25 anos\n"
     ]
    }
   ],
   "source": [
    "print(f'A idade da aluna {varDicAlt[1]['pnome']} {varDicAlt[1]['unome']} é de {varDicAlt[1]['idade']} anos')"
   ]
  },
  {
   "cell_type": "code",
   "execution_count": 5,
   "metadata": {},
   "outputs": [
    {
     "name": "stdout",
     "output_type": "stream",
     "text": [
      "A idade da aluna Ana Pacheco é de 25 anos\n"
     ]
    }
   ],
   "source": [
    "print(f'A idade da aluna {varDicAlt[1][\"pnome\"]} {varDicAlt[1][\"unome\"]} é de {varDicAlt[1][\"idade\"]} anos')"
   ]
  },
  {
   "cell_type": "markdown",
   "metadata": {},
   "source": [
    "## Acrescentar/Atualizar elementos ao dicionário"
   ]
  },
  {
   "cell_type": "code",
   "execution_count": 6,
   "metadata": {},
   "outputs": [],
   "source": [
    "varDicAlt.update({0 : {'pnome':'Gabriela','unome':'Alves','idade':27,'altura':1.70}})"
   ]
  },
  {
   "cell_type": "code",
   "execution_count": 7,
   "metadata": {},
   "outputs": [],
   "source": [
    "varDicAlt.update({3 : {'pnome':'Ricardo','unome':'Pinheiro','idade':31,'altura':1.84}})"
   ]
  },
  {
   "cell_type": "code",
   "execution_count": 8,
   "metadata": {},
   "outputs": [
    {
     "name": "stdout",
     "output_type": "stream",
     "text": [
      "{0: {'pnome': 'Gabriela', 'unome': 'Alves', 'idade': 27, 'altura': 1.7}, 1: {'pnome': 'Ana', 'unome': 'Pacheco', 'idade': 25, 'altura': 1.8}, 2: {'pnome': 'Nuno', 'unome': 'Garcez', 'idade': 28, 'altura': 1.75}, 3: {'pnome': 'Ricardo', 'unome': 'Pinheiro', 'idade': 31, 'altura': 1.84}}\n"
     ]
    }
   ],
   "source": [
    "print(varDicAlt)"
   ]
  },
  {
   "cell_type": "markdown",
   "metadata": {},
   "source": [
    "## Eliminar um elemento do dicionário"
   ]
  },
  {
   "cell_type": "code",
   "execution_count": 9,
   "metadata": {},
   "outputs": [
    {
     "data": {
      "text/plain": [
       "{'pnome': 'Ana', 'unome': 'Pacheco', 'idade': 25, 'altura': 1.8}"
      ]
     },
     "execution_count": 9,
     "metadata": {},
     "output_type": "execute_result"
    }
   ],
   "source": [
    "varDicAlt.pop(1)"
   ]
  },
  {
   "cell_type": "markdown",
   "metadata": {},
   "source": [
    "## Extrair palavras-chave do dicionário"
   ]
  },
  {
   "cell_type": "code",
   "execution_count": 11,
   "metadata": {},
   "outputs": [],
   "source": [
    "varDictKeys = varDicAlt.keys()\n",
    "\n",
    "varDictKeysList = list(varDictKeys)"
   ]
  },
  {
   "cell_type": "code",
   "execution_count": 12,
   "metadata": {},
   "outputs": [],
   "source": [
    "varDictKeys1 = varDicAlt[0].keys()\n",
    "\n",
    "varDictKeysList1 = list(varDictKeys1)"
   ]
  },
  {
   "cell_type": "markdown",
   "metadata": {},
   "source": [
    "## Extrair valores do dicionário"
   ]
  },
  {
   "cell_type": "code",
   "execution_count": 16,
   "metadata": {},
   "outputs": [
    {
     "name": "stdout",
     "output_type": "stream",
     "text": [
      "[{'pnome': 'Gabriela', 'unome': 'Alves', 'idade': 27, 'altura': 1.7}, {'pnome': 'Nuno', 'unome': 'Garcez', 'idade': 28, 'altura': 1.75}, {'pnome': 'Ricardo', 'unome': 'Pinheiro', 'idade': 31, 'altura': 1.84}]\n"
     ]
    }
   ],
   "source": [
    "import pandas as pd\n",
    "\n",
    "varDictValues = varDicAlt.values()\n",
    "\n",
    "varDictValuesList = list(varDictValues)\n",
    "\n",
    "print(varDictValuesList)\n",
    "\n",
    "varTest = pd.DataFrame(varDictValuesList)"
   ]
  },
  {
   "cell_type": "markdown",
   "metadata": {},
   "source": [
    "# 2. Funções implicitas\n",
    "## 2.1. *Range*"
   ]
  },
  {
   "cell_type": "code",
   "execution_count": 18,
   "metadata": {},
   "outputs": [
    {
     "name": "stdout",
     "output_type": "stream",
     "text": [
      "range(0, 10)\n",
      "0\n",
      "1\n",
      "2\n",
      "3\n",
      "4\n",
      "5\n",
      "6\n",
      "7\n",
      "8\n",
      "9\n"
     ]
    }
   ],
   "source": [
    "print(range(10)) # Criar um arranjo de numeros de 0 a 10 exclusivo: 0,1,2,3,4,5,6,7,8,9\n",
    "\n",
    "for i in range(10):\n",
    "    print(i)"
   ]
  },
  {
   "cell_type": "code",
   "execution_count": null,
   "metadata": {},
   "outputs": [
    {
     "name": "stdout",
     "output_type": "stream",
     "text": [
      "range(1, 30, 3)\n",
      "1\n",
      "4\n",
      "7\n",
      "10\n",
      "13\n",
      "16\n",
      "19\n",
      "22\n",
      "25\n",
      "28\n"
     ]
    }
   ],
   "source": [
    "x = range(1,30,3) # Criar um arranjo de numeros de 1 a 30 exclusivo, com passo de 3\n",
    "print(x)\n",
    "for i in x:\n",
    "    print(i)"
   ]
  },
  {
   "cell_type": "code",
   "execution_count": 23,
   "metadata": {},
   "outputs": [
    {
     "data": {
      "text/plain": [
       "[{'pnome': 'Gabriela', 'unome': 'Alves', 'idade': 27, 'altura': 1.7},\n",
       " {'pnome': 'Nuno', 'unome': 'Garcez', 'idade': 28, 'altura': 1.75},\n",
       " {'pnome': 'Ricardo', 'unome': 'Pinheiro', 'idade': 31, 'altura': 1.84}]"
      ]
     },
     "execution_count": 23,
     "metadata": {},
     "output_type": "execute_result"
    }
   ],
   "source": [
    "varDictValuesList"
   ]
  },
  {
   "cell_type": "markdown",
   "metadata": {},
   "source": [
    "### Criar um arranjo do numero de elementos de uma lista\n",
    "### Numero de elementos de uma lista (ou qualquer coleção de dados iteravel)"
   ]
  },
  {
   "cell_type": "code",
   "execution_count": 24,
   "metadata": {},
   "outputs": [
    {
     "data": {
      "text/plain": [
       "3"
      ]
     },
     "execution_count": 24,
     "metadata": {},
     "output_type": "execute_result"
    }
   ],
   "source": [
    "len(varDictValuesList)"
   ]
  },
  {
   "cell_type": "code",
   "execution_count": 26,
   "metadata": {},
   "outputs": [
    {
     "name": "stdout",
     "output_type": "stream",
     "text": [
      "0\n",
      "1\n",
      "2\n"
     ]
    }
   ],
   "source": [
    "x = range(len(varDictValuesList))\n",
    "for i in x:\n",
    "    print(i)"
   ]
  },
  {
   "cell_type": "code",
   "execution_count": 27,
   "metadata": {},
   "outputs": [
    {
     "name": "stdout",
     "output_type": "stream",
     "text": [
      "{'pnome': 'Gabriela', 'unome': 'Alves', 'idade': 27, 'altura': 1.7}\n",
      "{'pnome': 'Nuno', 'unome': 'Garcez', 'idade': 28, 'altura': 1.75}\n",
      "{'pnome': 'Ricardo', 'unome': 'Pinheiro', 'idade': 31, 'altura': 1.84}\n"
     ]
    }
   ],
   "source": [
    "x = range(len(varDictValuesList))\n",
    "for i in x:\n",
    "    print(varDictValuesList[i])"
   ]
  },
  {
   "cell_type": "code",
   "execution_count": 28,
   "metadata": {},
   "outputs": [
    {
     "name": "stdout",
     "output_type": "stream",
     "text": [
      "-1\n",
      "-3\n",
      "-5\n",
      "-7\n",
      "-9\n",
      "-11\n",
      "-13\n",
      "-15\n",
      "-17\n",
      "-19\n",
      "-21\n",
      "-23\n",
      "-25\n",
      "-27\n",
      "-29\n",
      "-31\n",
      "-33\n",
      "-35\n",
      "-37\n",
      "-39\n",
      "-41\n",
      "-43\n",
      "-45\n",
      "-47\n",
      "-49\n"
     ]
    }
   ],
   "source": [
    "for i in range(-1,-50,-2):\n",
    "    print(i)"
   ]
  },
  {
   "cell_type": "markdown",
   "metadata": {},
   "source": [
    "## 2.2. *Frozenset*"
   ]
  },
  {
   "cell_type": "code",
   "execution_count": null,
   "metadata": {},
   "outputs": [
    {
     "name": "stdout",
     "output_type": "stream",
     "text": [
      "frozenset({27, 1.7, 'Gabriela', 'Alves'})\n"
     ]
    }
   ],
   "source": [
    "varFrozenSet = frozenset(varDictValuesList[0].values())\n",
    "\n",
    "print(varFrozenSet)\n",
    "\n",
    "# Igual a Set, mas não permite atualizar, adicionar ou remover conteúdo"
   ]
  },
  {
   "cell_type": "code",
   "execution_count": null,
   "metadata": {},
   "outputs": [
    {
     "ename": "TypeError",
     "evalue": "unhashable type: 'dict'",
     "output_type": "error",
     "traceback": [
      "\u001b[1;31m---------------------------------------------------------------------------\u001b[0m",
      "\u001b[1;31mTypeError\u001b[0m                                 Traceback (most recent call last)",
      "Cell \u001b[1;32mIn[30], line 1\u001b[0m\n\u001b[1;32m----> 1\u001b[0m varFrozenSet \u001b[38;5;241m=\u001b[39m \u001b[38;5;28mfrozenset\u001b[39m(varDictValuesList)\n",
      "\u001b[1;31mTypeError\u001b[0m: unhashable type: 'dict'"
     ]
    }
   ],
   "source": [
    "varFrozenSet = frozenset(varDictValuesList)\n",
    "\n",
    "# Não permite criar variável se houver coleção de dados dentro de uma coleção de dados"
   ]
  },
  {
   "cell_type": "markdown",
   "metadata": {},
   "source": [
    "## Valores com bases diferentes"
   ]
  },
  {
   "cell_type": "code",
   "execution_count": 34,
   "metadata": {},
   "outputs": [],
   "source": [
    "varBin = 0b1010\n",
    "varOct = 0o10\n",
    "varHex = 0xF"
   ]
  },
  {
   "cell_type": "markdown",
   "metadata": {},
   "source": [
    "# 3. Strings\n",
    "## 3.1. Concatenar Strings"
   ]
  },
  {
   "cell_type": "code",
   "execution_count": 35,
   "metadata": {},
   "outputs": [
    {
     "name": "stdout",
     "output_type": "stream",
     "text": [
      "Python\n"
     ]
    }
   ],
   "source": [
    "print('Py' + 'thon')"
   ]
  },
  {
   "cell_type": "code",
   "execution_count": 36,
   "metadata": {},
   "outputs": [
    {
     "name": "stdout",
     "output_type": "stream",
     "text": [
      "PyPyPython\n"
     ]
    }
   ],
   "source": [
    "print(3 * 'Py' + 'thon')"
   ]
  },
  {
   "cell_type": "code",
   "execution_count": 37,
   "metadata": {},
   "outputs": [
    {
     "name": "stdout",
     "output_type": "stream",
     "text": [
      "PythonPythonPython\n"
     ]
    }
   ],
   "source": [
    "print(3 * ('Py' + 'thon'))"
   ]
  },
  {
   "cell_type": "markdown",
   "metadata": {},
   "source": [
    "## 3.2. Localizar e extrair secções das strings"
   ]
  },
  {
   "cell_type": "code",
   "execution_count": 39,
   "metadata": {},
   "outputs": [
    {
     "name": "stdout",
     "output_type": "stream",
     "text": [
      "['__add__', '__class__', '__contains__', '__delattr__', '__dir__', '__doc__', '__eq__', '__format__', '__ge__', '__getattribute__', '__getitem__', '__getnewargs__', '__getstate__', '__gt__', '__hash__', '__init__', '__init_subclass__', '__iter__', '__le__', '__len__', '__lt__', '__mod__', '__mul__', '__ne__', '__new__', '__reduce__', '__reduce_ex__', '__repr__', '__rmod__', '__rmul__', '__setattr__', '__sizeof__', '__str__', '__subclasshook__', 'capitalize', 'casefold', 'center', 'count', 'encode', 'endswith', 'expandtabs', 'find', 'format', 'format_map', 'index', 'isalnum', 'isalpha', 'isascii', 'isdecimal', 'isdigit', 'isidentifier', 'islower', 'isnumeric', 'isprintable', 'isspace', 'istitle', 'isupper', 'join', 'ljust', 'lower', 'lstrip', 'maketrans', 'partition', 'removeprefix', 'removesuffix', 'replace', 'rfind', 'rindex', 'rjust', 'rpartition', 'rsplit', 'rstrip', 'split', 'splitlines', 'startswith', 'strip', 'swapcase', 'title', 'translate', 'upper', 'zfill']\n"
     ]
    }
   ],
   "source": [
    "word = 'Python'\n",
    "\n",
    "print(dir(word))"
   ]
  },
  {
   "cell_type": "code",
   "execution_count": null,
   "metadata": {},
   "outputs": [
    {
     "name": "stdout",
     "output_type": "stream",
     "text": [
      "P\n",
      "h\n"
     ]
    }
   ],
   "source": [
    "print(word[0]) # Caracter na posição 0\n",
    "\n",
    "print(word[3]) # Caracter na posição 3"
   ]
  },
  {
   "cell_type": "code",
   "execution_count": null,
   "metadata": {},
   "outputs": [],
   "source": [
    "'''\n",
    " para mais tarde recordar\n",
    " +---+---+---+---+---+---+\n",
    " | P | y | t | h | o | n |\n",
    " +---+---+---+---+---+---+\n",
    " 0   1   2   3   4   5   \n",
    "-6  -5  -4  -3  -2  -1\n",
    "'''"
   ]
  },
  {
   "cell_type": "code",
   "execution_count": 43,
   "metadata": {},
   "outputs": [
    {
     "name": "stdout",
     "output_type": "stream",
     "text": [
      "P\n",
      "n\n"
     ]
    }
   ],
   "source": [
    "print(word[0])\n",
    "\n",
    "print(word[-1])"
   ]
  },
  {
   "cell_type": "markdown",
   "metadata": {},
   "source": [
    "## Definir intervalos de indexação"
   ]
  },
  {
   "cell_type": "code",
   "execution_count": null,
   "metadata": {},
   "outputs": [
    {
     "name": "stdout",
     "output_type": "stream",
     "text": [
      "Pyth\n"
     ]
    }
   ],
   "source": [
    "print(word[0:4]) # Definição de intervalo de caracteres da string.\n",
    "# Indice inicial é sempre inclusivo, indice final é sempre exclusivo"
   ]
  },
  {
   "cell_type": "code",
   "execution_count": 46,
   "metadata": {},
   "outputs": [
    {
     "name": "stdout",
     "output_type": "stream",
     "text": [
      "Pyt\n"
     ]
    }
   ],
   "source": [
    "print(word[:3]) # No indice inicial, se nada for colocado é assumido o indice 0"
   ]
  },
  {
   "cell_type": "code",
   "execution_count": 47,
   "metadata": {},
   "outputs": [
    {
     "name": "stdout",
     "output_type": "stream",
     "text": [
      "hon\n"
     ]
    }
   ],
   "source": [
    "print(word[3:]) # Selecionou-se o intervalo do indice 3 inclusivo, até ao final da string"
   ]
  },
  {
   "cell_type": "code",
   "execution_count": null,
   "metadata": {},
   "outputs": [
    {
     "name": "stdout",
     "output_type": "stream",
     "text": [
      "Py\n",
      "Py\n"
     ]
    }
   ],
   "source": [
    "print(word[:-4]) # Selecionou indice 0 até -4, que corresponde ao indice 2\n",
    "print(word[:2])"
   ]
  },
  {
   "cell_type": "code",
   "execution_count": null,
   "metadata": {},
   "outputs": [
    {
     "name": "stdout",
     "output_type": "stream",
     "text": [
      "ython\n"
     ]
    }
   ],
   "source": [
    "print(word[-5:]) # Selecionou o indice inicial -5, que corresponde ao indice 1"
   ]
  },
  {
   "cell_type": "code",
   "execution_count": null,
   "metadata": {},
   "outputs": [
    {
     "name": "stdout",
     "output_type": "stream",
     "text": [
      "th\n"
     ]
    }
   ],
   "source": [
    "print(word[2:-2]) # Selecionou o indice inicial 2, e o final -2, que corresponde ao indice 4"
   ]
  },
  {
   "cell_type": "code",
   "execution_count": 52,
   "metadata": {},
   "outputs": [
    {
     "name": "stdout",
     "output_type": "stream",
     "text": [
      "hon\n"
     ]
    }
   ],
   "source": [
    "a = 3\n",
    "b = 6\n",
    "\n",
    "print(word[a:b])"
   ]
  },
  {
   "cell_type": "code",
   "execution_count": 76,
   "metadata": {},
   "outputs": [
    {
     "name": "stdout",
     "output_type": "stream",
     "text": [
      "                          Pneumoultramicroscopicossilicovulcanoconióticos                           \n",
      "PneumoultramicroPyPyPycopicoPyPyPyPyPyPyilicovulcanoconióticoPyPyPy\n"
     ]
    }
   ],
   "source": [
    "myString = 'Pneumoultramicroscopicossilicovulcanoconióticos'\n",
    "myString2 = 'Pneumoultramicroscopicossilicovulcanoconióticos1123324'\n",
    "myString3 = 'Pneumoultra microscopicossilico vulcanoconióticos'\n",
    "myString4 = '     Pneumoultramicroscopicossilicovulcanoconióticos     '\n",
    "myStringNum = '15615665156165'\n",
    "\n",
    "lenString = len(myString) # Obtem o numero de caracteres da string\n",
    "findString = myString.find('ss') # Obter o indice da primeira ocorrência de um caracter ou conjunto de caracteres\n",
    "alphaString = myString.isalpha() # Devolve True se a string for toda alfabética\n",
    "alphaString2 = myString2.isalpha()\n",
    "digitString = myString.isdigit() # Deteção se a string contem numeros conforme a tabela abaixo\n",
    "numericString = myString.isnumeric() # Deteção se a string contem numeros conforme a tabela abaixo\n",
    "decimalString = myString.isdecimal() # Deteção se a string contem numeros conforme a tabela abaixo\n",
    "digitString2 = myStringNum.isdigit() # Deteção se a string contem numeros conforme a tabela abaixo\n",
    "numericString2 = myStringNum.isnumeric() # Deteção se a string contem numeros conforme a tabela abaixo\n",
    "decimalString2 = myStringNum.isdecimal() # Deteção se a string contem numeros conforme a tabela abaixo\n",
    "lowerString = myString.lower() # Converter string para letras minusculas\n",
    "upperString = myString.upper() # Converter string para letras minusculas\n",
    "capitilizeString = upperString.capitalize() # Converter string para letras minusculas\n",
    "titleString = myString3.title() # Colocar todos os elementos da string separado por espaço com a primeira letra em maiusculo\n",
    "countString = myString.count('s',0,30) # Contagem do numero de ocorrências de um caracter ou comjunto de caracteres na string\n",
    "stripString = myString4.strip() # Elimina os espaços em branco à esquerda e à direita\n",
    "lstripString = myString4.lstrip() # Elimina os espaços em branco à esquerda\n",
    "rstripString = myString4.rstrip() # Elimina os espaços em branco à direita\n",
    "centerString = myString.center(100) # Centra a string num conjunto de espaços definidos\n",
    "print(centerString)\n",
    "replaceString = myString.replace('s',3 * 'Py') # Substitui um carater ou conjunto de caracteres por um novo elemento\n",
    "print(replaceString)\n"
   ]
  },
  {
   "attachments": {
    "image.png": {
     "image/png": "[encoded data removed]"
    }
   },
   "cell_type": "markdown",
   "metadata": {},
   "source": [
    "![image.png](attachment:image.png)"
   ]
  },
  {
   "cell_type": "markdown",
   "metadata": {},
   "source": [
    "[Link para funções de numeração](https://datagy.io/python-isdigit/)"
   ]
  },
  {
   "cell_type": "code",
   "execution_count": 61,
   "metadata": {},
   "outputs": [
    {
     "data": {
      "text/plain": [
       "False"
      ]
     },
     "execution_count": 61,
     "metadata": {},
     "output_type": "execute_result"
    }
   ],
   "source": [
    "'2²'.isdecimal()"
   ]
  },
  {
   "cell_type": "code",
   "execution_count": 62,
   "metadata": {},
   "outputs": [
    {
     "data": {
      "text/plain": [
       "True"
      ]
     },
     "execution_count": 62,
     "metadata": {},
     "output_type": "execute_result"
    }
   ],
   "source": [
    "'2²'.isdigit()"
   ]
  },
  {
   "cell_type": "code",
   "execution_count": 1,
   "metadata": {},
   "outputs": [],
   "source": [
    "myString6 = 'Olá Python; é; uma; linguagem; de; programação'\n",
    "\n",
    "listString = myString6.split() # Devolve lista de elementos da string, separados por espaço ou mudanças de linha\n",
    "\n",
    "listString[0]\n",
    "\n",
    "listString2 = myString6.split(sep=';') # Devolve lista de elementos, separados por ;\n",
    "\n",
    "listString3 = list(myString6)"
   ]
  },
  {
   "cell_type": "markdown",
   "metadata": {},
   "source": [
    "## 3.4. Trabalhar com listas"
   ]
  },
  {
   "cell_type": "code",
   "execution_count": 21,
   "metadata": {},
   "outputs": [
    {
     "data": {
      "text/plain": [
       "[9, 16, 25]"
      ]
     },
     "execution_count": 21,
     "metadata": {},
     "output_type": "execute_result"
    }
   ],
   "source": [
    "squares = [1, 4, 9, 16, 25]\n",
    "#          0, 1, 2,  3,  4\n",
    "#         -5,-4,-3, -2, -1\n",
    "\n",
    "squares[2] # Idexação direta: devolve o elemento da posição, neste caso int. Indexação positiva\n",
    "squares[-3] # Idexação direta: devolve o elemento da posição, neste caso int. Indexação negativa\n",
    "squares[-3:] # Indexação por intervalo: devolve uma lista\n"
   ]
  },
  {
   "cell_type": "markdown",
   "metadata": {},
   "source": [
    "### 3.4.1. Concatenação de listas"
   ]
  },
  {
   "cell_type": "code",
   "execution_count": 22,
   "metadata": {},
   "outputs": [
    {
     "name": "stdout",
     "output_type": "stream",
     "text": [
      "[1, 4, 9, 16, 25, 36, 49, 65, 81, 100, 11.3, 'João', True, 15]\n"
     ]
    }
   ],
   "source": [
    "squares2 = [36, 49, 65, 81, 100]\n",
    "\n",
    "conSquares = squares + squares2\n",
    "\n",
    "rand_list = [11.3, 'João', True, 0b1111]\n",
    "\n",
    "print(conSquares + rand_list)"
   ]
  },
  {
   "cell_type": "code",
   "execution_count": 12,
   "metadata": {},
   "outputs": [],
   "source": [
    "rep_index = conSquares.index(65)\n",
    "conSquares[rep_index] = 64"
   ]
  },
  {
   "cell_type": "markdown",
   "metadata": {},
   "source": [
    "## 3.4.2. Acrescentar no final da lista"
   ]
  },
  {
   "cell_type": "code",
   "execution_count": 23,
   "metadata": {},
   "outputs": [],
   "source": [
    "squares.append(36) # coloca um elemento no final da lista e altera o conteúdo da variável"
   ]
  },
  {
   "cell_type": "code",
   "execution_count": null,
   "metadata": {},
   "outputs": [],
   "source": [
    "squares4 = squares + [49] # coloca um elemento no final da lista, sem alterar a variável original"
   ]
  },
  {
   "cell_type": "code",
   "execution_count": null,
   "metadata": {},
   "outputs": [],
   "source": [
    "squares = squares + [49] # Declaração explicita que altera a variável otiginal"
   ]
  },
  {
   "cell_type": "markdown",
   "metadata": {},
   "source": [
    "### 3.4.3. Numero de ocorrências de uma lista"
   ]
  },
  {
   "cell_type": "code",
   "execution_count": null,
   "metadata": {},
   "outputs": [
    {
     "data": {
      "text/plain": [
       "5"
      ]
     },
     "execution_count": 44,
     "metadata": {},
     "output_type": "execute_result"
    }
   ],
   "source": [
    "lenLista = len(conSquares) # obter numero de elementos da lista\n",
    "\n",
    "squares.count(49) # Obter contagem de numero de ocorrências da lista"
   ]
  },
  {
   "cell_type": "markdown",
   "metadata": {},
   "source": [
    "### 3.4.4. Substituir e remover elementos da lista"
   ]
  },
  {
   "cell_type": "code",
   "execution_count": 53,
   "metadata": {},
   "outputs": [],
   "source": [
    "letrasString = 'a b c d e f g'\n",
    "\n",
    "listString = letrasString.split()\n",
    "\n",
    "numeros = [1,2,3,4,5,6,7]\n",
    "\n",
    "newList = numeros[:4] + listString[4:]\n",
    "\n",
    "numeros[4:] = listString[4:]"
   ]
  },
  {
   "cell_type": "markdown",
   "metadata": {},
   "source": [
    "### 3.4.5. Remover elementos da lista através de indice"
   ]
  },
  {
   "cell_type": "code",
   "execution_count": 57,
   "metadata": {},
   "outputs": [
    {
     "name": "stdout",
     "output_type": "stream",
     "text": [
      "['a', 'd', 'e', 'f', 'g']\n",
      "['a', 'e', 'f', 'g']\n"
     ]
    }
   ],
   "source": [
    "print(listString)\n",
    "listString.pop(1) # Elimina o emento do indice da lista e faz reindexação\n",
    "print(listString)"
   ]
  },
  {
   "cell_type": "markdown",
   "metadata": {},
   "source": [
    "### 3.4.6. Acrescentar elementos na lista através de indice"
   ]
  },
  {
   "cell_type": "code",
   "execution_count": 59,
   "metadata": {},
   "outputs": [
    {
     "name": "stdout",
     "output_type": "stream",
     "text": [
      "['a', 'e', 'b', 'e', 'f', 'g']\n"
     ]
    }
   ],
   "source": [
    "listString.insert(1,input('Introduza o elemento que pretede insirir na lista'))\n",
    "\n",
    "print(listString)"
   ]
  },
  {
   "cell_type": "markdown",
   "metadata": {},
   "source": [
    "### 3.4.7. Descobrir qual o indice de um elemento na lista"
   ]
  },
  {
   "cell_type": "code",
   "execution_count": null,
   "metadata": {},
   "outputs": [
    {
     "data": {
      "text/plain": [
       "3"
      ]
     },
     "execution_count": 61,
     "metadata": {},
     "output_type": "execute_result"
    }
   ],
   "source": [
    "listString.index('e',2,5) # Indice da primeira ocorrência do elemento na lista"
   ]
  },
  {
   "cell_type": "markdown",
   "metadata": {},
   "source": [
    "## 3.5. Listas dentro de listas"
   ]
  },
  {
   "cell_type": "code",
   "execution_count": null,
   "metadata": {},
   "outputs": [],
   "source": [
    "letras = ['a','b','c','d']\n",
    "\n",
    "numeros = [1,2,3,4]\n",
    "\n",
    "char = ['º','~','?','^']\n",
    "\n",
    "operadores = ['+','-','*','/']\n",
    "\n",
    "lista = [letras,numeros,char,operadores]\n",
    "\n",
    "dataset = lista\n",
    "\n"
   ]
  },
  {
   "cell_type": "code",
   "execution_count": 71,
   "metadata": {},
   "outputs": [],
   "source": [
    "lista2 = [numeros,\n",
    "          [numeros[0]**2,numeros[1]**2,numeros[2]**2,numeros[3]**2],\n",
    "          [numeros[0]**3,numeros[1]**3,numeros[2]**3,numeros[3]**3],\n",
    "          [numeros[0]**4,numeros[1]**4,numeros[2]**4,numeros[3]**4]]"
   ]
  },
  {
   "cell_type": "code",
   "execution_count": 72,
   "metadata": {},
   "outputs": [
    {
     "data": {
      "text/plain": [
       "64"
      ]
     },
     "execution_count": 72,
     "metadata": {},
     "output_type": "execute_result"
    }
   ],
   "source": [
    "lista2[2][3]"
   ]
  }
 ],
 "metadata": {
  "kernelspec": {
   "display_name": "UFCD_10793_3_N",
   "language": "python",
   "name": "python3"
  },
  "language_info": {
   "codemirror_mode": {
    "name": "ipython",
    "version": 3
   },
   "file_extension": ".py",
   "mimetype": "text/x-python",
   "name": "python",
   "nbconvert_exporter": "python",
   "pygments_lexer": "ipython3",
   "version": "3.12.7"
  }
 },
 "nbformat": 4,
 "nbformat_minor": 2
}
