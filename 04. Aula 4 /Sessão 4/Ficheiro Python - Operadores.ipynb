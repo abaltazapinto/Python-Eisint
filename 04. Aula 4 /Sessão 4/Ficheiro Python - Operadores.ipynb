{
 "cells": [
  {
   "cell_type": "markdown",
   "metadata": {},
   "source": [
    "# Operadores\n",
    "\n",
    "# 1. Aritméticos"
   ]
  },
  {
   "cell_type": "code",
   "execution_count": 6,
   "metadata": {},
   "outputs": [],
   "source": [
    "soma = 3 + 2\n",
    "subtracao = 3 - 2\n",
    "multiplicacao = 3 * 2\n",
    "divisao = 3 / 2\n",
    "resto_divisao = 3 % 2\n",
    "quociente_divisao = 3 // 2\n",
    "potencia = 3 ** 2"
   ]
  },
  {
   "cell_type": "markdown",
   "metadata": {},
   "source": [
    "# 2. Comparação"
   ]
  },
  {
   "cell_type": "code",
   "execution_count": null,
   "metadata": {},
   "outputs": [
    {
     "data": {
      "text/plain": [
       "False"
      ]
     },
     "execution_count": 14,
     "metadata": {},
     "output_type": "execute_result"
    }
   ],
   "source": [
    "x = 0\n",
    "y = 1\n",
    "\n",
    "a = '1'\n",
    "b = 1\n",
    "\n",
    "x == y # Compração entre duas variáveis, se são iguais\n",
    "x != y # Compração entre duas variáveis, se são diferentes\n",
    "x > y # Compração entre duas variáveis, se x é maior que y\n",
    "x < y # Compração entre duas variáveis, se x é menor que y\n",
    "x >= y # Compração entre duas variáveis, se x é maior ou igual que y\n",
    "x <= y # Compração entre duas variáveis, se x é menor ou igual que y\n",
    "\n",
    "a == b # Operação possivel. Operadores de comparação também comparam tipos de dados"
   ]
  },
  {
   "cell_type": "markdown",
   "metadata": {},
   "source": [
    "# 3. Lógicos\n",
    "## 3.1. Operador AND"
   ]
  },
  {
   "cell_type": "code",
   "execution_count": null,
   "metadata": {},
   "outputs": [
    {
     "data": {
      "text/plain": [
       "False"
      ]
     },
     "execution_count": 16,
     "metadata": {},
     "output_type": "execute_result"
    }
   ],
   "source": [
    "x = 0\n",
    "y = 1\n",
    "z = 2\n",
    "\n",
    "x >= 0 and y <= 1 and z == 2 # Comparação entre duas ou mais condições, em que é verdadeiro se todas as condições forem verdadeiras\n"
   ]
  },
  {
   "cell_type": "markdown",
   "metadata": {},
   "source": [
    "## 3.2. Operador OR"
   ]
  },
  {
   "cell_type": "code",
   "execution_count": 21,
   "metadata": {},
   "outputs": [
    {
     "data": {
      "text/plain": [
       "True"
      ]
     },
     "execution_count": 21,
     "metadata": {},
     "output_type": "execute_result"
    }
   ],
   "source": [
    "w = 3\n",
    "\n",
    "x != 0 or y < 1 or w >= 3 # Comparação entre duas ou mais condições, em que é basta uma condição ser verdadeira, para a expressão ser toda ela verdadeira"
   ]
  },
  {
   "cell_type": "markdown",
   "metadata": {},
   "source": [
    "## 3.3. Operador XOR"
   ]
  },
  {
   "cell_type": "code",
   "execution_count": null,
   "metadata": {},
   "outputs": [],
   "source": [
    "'''\n",
    "True ^ True = False\n",
    "True ^ False = True\n",
    "False ^ True = True\n",
    "False ^ False = False\n",
    "\n",
    "'''"
   ]
  },
  {
   "cell_type": "code",
   "execution_count": 23,
   "metadata": {},
   "outputs": [
    {
     "data": {
      "text/plain": [
       "False"
      ]
     },
     "execution_count": 23,
     "metadata": {},
     "output_type": "execute_result"
    }
   ],
   "source": [
    "x = 10\n",
    "y = 20\n",
    "\n",
    "(x >= 10) ^ (y <= 20)"
   ]
  },
  {
   "cell_type": "markdown",
   "metadata": {},
   "source": [
    "## 3.4. Condição NOT"
   ]
  },
  {
   "cell_type": "code",
   "execution_count": 25,
   "metadata": {},
   "outputs": [
    {
     "data": {
      "text/plain": [
       "False"
      ]
     },
     "execution_count": 25,
     "metadata": {},
     "output_type": "execute_result"
    }
   ],
   "source": [
    "not(x != 0 or y >= 20)"
   ]
  },
  {
   "cell_type": "markdown",
   "metadata": {},
   "source": [
    "# 4. Operadores de membro"
   ]
  },
  {
   "cell_type": "code",
   "execution_count": null,
   "metadata": {},
   "outputs": [
    {
     "name": "stdout",
     "output_type": "stream",
     "text": [
      "True\n",
      "False\n",
      "False\n",
      "True\n"
     ]
    }
   ],
   "source": [
    "listaH = ['Batman','Super-Homem','Homem-Aranha']\n",
    "\n",
    "print('Batman' in listaH) # Correspondência total\n",
    "\n",
    "print('Batman' not in listaH)\n",
    "\n",
    "print('Bat' in listaH)\n",
    "\n",
    "stringSuper = 'Batman'\n",
    "\n",
    "print('Bat' in stringSuper) # Correspondência total e parcial"
   ]
  },
  {
   "cell_type": "markdown",
   "metadata": {},
   "source": [
    "# 5. Atribuição"
   ]
  },
  {
   "cell_type": "code",
   "execution_count": 32,
   "metadata": {},
   "outputs": [],
   "source": [
    "contador = 5"
   ]
  },
  {
   "cell_type": "code",
   "execution_count": 45,
   "metadata": {},
   "outputs": [],
   "source": [
    "contador = contador + 1"
   ]
  },
  {
   "cell_type": "code",
   "execution_count": null,
   "metadata": {},
   "outputs": [],
   "source": [
    "contador += 1 # incrementar o valor da variável e atribui (contador = contador + 1)"
   ]
  },
  {
   "cell_type": "code",
   "execution_count": null,
   "metadata": {},
   "outputs": [],
   "source": [
    "contador -= 1 # decrementar o valor da variável e atribui (contador = contador - 1)"
   ]
  },
  {
   "cell_type": "code",
   "execution_count": null,
   "metadata": {},
   "outputs": [],
   "source": [
    "contador *= 2 # multiplicar o valor da variável e atribui (contador = contador * 2)"
   ]
  },
  {
   "cell_type": "code",
   "execution_count": null,
   "metadata": {},
   "outputs": [],
   "source": [
    "contador /= 2 # Dividir o valor da variável e atribui (contador = contador / 2)"
   ]
  },
  {
   "cell_type": "code",
   "execution_count": null,
   "metadata": {},
   "outputs": [],
   "source": [
    "contador //= 2 # Quociente do valor da variável e atribui (contador = contador // 2)"
   ]
  },
  {
   "cell_type": "code",
   "execution_count": 71,
   "metadata": {},
   "outputs": [],
   "source": [
    "contador **= 2 # Expoente do valor da variável e atribui (contador = contador ** 2)"
   ]
  },
  {
   "cell_type": "code",
   "execution_count": 72,
   "metadata": {},
   "outputs": [],
   "source": [
    "contador %= 2 # Resto da divisão do valor da variável e atribui (contador = contador % 2)"
   ]
  },
  {
   "cell_type": "markdown",
   "metadata": {},
   "source": [
    "# 6. Operadores de identidade"
   ]
  },
  {
   "cell_type": "code",
   "execution_count": 81,
   "metadata": {},
   "outputs": [
    {
     "name": "stdout",
     "output_type": "stream",
     "text": [
      "False\n",
      "False\n",
      "True\n",
      "False\n"
     ]
    }
   ],
   "source": [
    "x = ['Olá','Mundo']\n",
    "y = ['Hello','World']\n",
    "z = ['Olá','Mundo']\n",
    "\n",
    "w = z\n",
    "\n",
    "print(x is y) # Verificação entre duas ou mais variáveis, se estão igualadas\n",
    "print(x is w) # As duas variáveis possuem o mesmo conteúdo, mas não estão igualadas uma a outra\n",
    "\n",
    "print(w is z) # As duas variáveis possuem o mesmo cnteúdo, e estão igualadas uma a outra\n",
    "\n",
    "w = z.copy() # Fazer cópia da variável original para não alterar o seu valor, no caso de atribuição por indexação\n",
    "\n",
    "w[0] = 'Hello'\n",
    "\n",
    "print(w is z)"
   ]
  }
 ],
 "metadata": {
  "kernelspec": {
   "display_name": "UFCD_10793_3_N",
   "language": "python",
   "name": "python3"
  },
  "language_info": {
   "codemirror_mode": {
    "name": "ipython",
    "version": 3
   },
   "file_extension": ".py",
   "mimetype": "text/x-python",
   "name": "python",
   "nbconvert_exporter": "python",
   "pygments_lexer": "ipython3",
   "version": "3.12.7"
  }
 },
 "nbformat": 4,
 "nbformat_minor": 2
}
