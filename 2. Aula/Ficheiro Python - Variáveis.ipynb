{
 "cells": [
  {
   "cell_type": "markdown",
   "metadata": {},
   "source": [
    "# 1. Variáveis\n",
    "\n",
    "## 1.1. Atribuição direta"
   ]
  },
  {
   "cell_type": "code",
   "execution_count": 1,
   "metadata": {},
   "outputs": [],
   "source": [
    "x = 10 # Atribuição direta de um numero inteiro\n",
    "y = 4.7 # Atribuição direta de um numero float\n",
    "s = 'Python' # Atribuição direta de um caracter ou conjunto de caracteres\n",
    "t = \"Python\" # Atribuição direta de um caracter ou conjunto de caracteres\n",
    "r = '4' # Diferente de inteiro. 4 é uma string\n",
    "w = \"'3'\" # Colocação de aplica em string\n",
    "v = '\"3\"' # Colocação de aspas em string"
   ]
  },
  {
   "cell_type": "code",
   "execution_count": 3,
   "metadata": {},
   "outputs": [],
   "source": [
    "X = 20"
   ]
  },
  {
   "cell_type": "code",
   "execution_count": 7,
   "metadata": {},
   "outputs": [
    {
     "ename": "TypeError",
     "evalue": "unsupported operand type(s) for +: 'float' and 'str'",
     "output_type": "error",
     "traceback": [
      "\u001b[1;31m---------------------------------------------------------------------------\u001b[0m",
      "\u001b[1;31mTypeError\u001b[0m                                 Traceback (most recent call last)",
      "Cell \u001b[1;32mIn[7], line 1\u001b[0m\n\u001b[1;32m----> 1\u001b[0m y \u001b[38;5;241m+\u001b[39m r\n",
      "\u001b[1;31mTypeError\u001b[0m: unsupported operand type(s) for +: 'float' and 'str'"
     ]
    }
   ],
   "source": [
    "y + r"
   ]
  },
  {
   "cell_type": "markdown",
   "metadata": {},
   "source": [
    "## 1.2. Atribuição por Construtor ou *Casting*"
   ]
  },
  {
   "cell_type": "code",
   "execution_count": 15,
   "metadata": {},
   "outputs": [
    {
     "data": {
      "text/plain": [
       "'olá eu sou o JoãoO seu apelido é Araújo'"
      ]
     },
     "execution_count": 15,
     "metadata": {},
     "output_type": "execute_result"
    }
   ],
   "source": [
    "x1 = int(y) # Converter float para inteiro\n",
    "x2 = float(x) # Converter inteiro para float\n",
    "\n",
    "x3 = int(r) # Converter string para inteiro. Operação válida se a string apenas conttiver numeros\n",
    "\n",
    "# x4 = int(s) # Operação inválida, uma vez que a string contém caracteres\n",
    "\n",
    "x5 = float(r) # Converter string para float\n",
    "x6 = 16514861156561615313165\n",
    "\n",
    "x7 = str(x6)\n",
    "\n",
    "'olá eu sou o João' + 'O seu apelido é Araújo'"
   ]
  },
  {
   "cell_type": "code",
   "execution_count": 8,
   "metadata": {},
   "outputs": [
    {
     "data": {
      "text/plain": [
       "8.7"
      ]
     },
     "execution_count": 8,
     "metadata": {},
     "output_type": "execute_result"
    }
   ],
   "source": [
    "y + x3"
   ]
  },
  {
   "cell_type": "code",
   "execution_count": 12,
   "metadata": {},
   "outputs": [
    {
     "data": {
      "text/plain": [
       "1.6514861156561616e+22"
      ]
     },
     "execution_count": 12,
     "metadata": {},
     "output_type": "execute_result"
    }
   ],
   "source": [
    "y + x6"
   ]
  },
  {
   "cell_type": "code",
   "execution_count": 14,
   "metadata": {},
   "outputs": [
    {
     "data": {
      "text/plain": [
       "'416514861156561615313165'"
      ]
     },
     "execution_count": 14,
     "metadata": {},
     "output_type": "execute_result"
    }
   ],
   "source": [
    "r + x7"
   ]
  },
  {
   "cell_type": "markdown",
   "metadata": {},
   "source": [
    "## 1.3. Case-sensitive"
   ]
  },
  {
   "cell_type": "code",
   "execution_count": 16,
   "metadata": {},
   "outputs": [],
   "source": [
    "a = 'João' #a diferente de A\n",
    "A = 'João'"
   ]
  },
  {
   "cell_type": "markdown",
   "metadata": {},
   "source": [
    "## 1.4. Tipos de variável"
   ]
  },
  {
   "cell_type": "code",
   "execution_count": 20,
   "metadata": {},
   "outputs": [
    {
     "data": {
      "text/plain": [
       "float"
      ]
     },
     "execution_count": 20,
     "metadata": {},
     "output_type": "execute_result"
    }
   ],
   "source": [
    "type(y)"
   ]
  },
  {
   "cell_type": "markdown",
   "metadata": {},
   "source": [
    "## 1.5. Atribuição de multiplas variáveis"
   ]
  },
  {
   "cell_type": "markdown",
   "metadata": {},
   "source": [
    "### Com valores diferentes"
   ]
  },
  {
   "cell_type": "code",
   "execution_count": 21,
   "metadata": {},
   "outputs": [],
   "source": [
    "a, b, c, d = 25.32, 2, 3.5, 'Python'"
   ]
  },
  {
   "cell_type": "markdown",
   "metadata": {},
   "source": [
    "### Com o mesmo valor"
   ]
  },
  {
   "cell_type": "code",
   "execution_count": 22,
   "metadata": {},
   "outputs": [],
   "source": [
    "e = f = g = 'Araújo'"
   ]
  },
  {
   "cell_type": "markdown",
   "metadata": {},
   "source": [
    "## 1.6. Float com representação cientifica"
   ]
  },
  {
   "cell_type": "code",
   "execution_count": 27,
   "metadata": {},
   "outputs": [],
   "source": [
    "exp = 35e3 # 35 * 10 ^ 3\n",
    "\n",
    "exp2 = 35E-3 # 35 * 10 ^ -3\n"
   ]
  },
  {
   "cell_type": "code",
   "execution_count": 29,
   "metadata": {},
   "outputs": [],
   "source": [
    "formula = 5 + 3 * 2\n",
    "\n",
    "formula2 = (5 + 3) * 2"
   ]
  },
  {
   "cell_type": "markdown",
   "metadata": {},
   "source": [
    "## 1.7. Nomes das variáveis"
   ]
  },
  {
   "cell_type": "code",
   "execution_count": 35,
   "metadata": {},
   "outputs": [],
   "source": [
    "xyz1 = 1\n",
    "\n",
    "_vst = 1\n",
    "\n",
    "x_y = 1\n",
    "\n",
    "primeiro_nome = 'João'\n",
    "primeiroNome = 'João'\n",
    "\n",
    "# 1x = 40 - Errado\n",
    "# -x = 20 - Errado"
   ]
  },
  {
   "cell_type": "markdown",
   "metadata": {},
   "source": [
    "# 2. Comandos de *input* e *output*"
   ]
  },
  {
   "cell_type": "code",
   "execution_count": 37,
   "metadata": {},
   "outputs": [],
   "source": [
    "myInput = input('Introduza um numero, por favor.')\n",
    "myInputInt = int(myInput)"
   ]
  },
  {
   "cell_type": "code",
   "execution_count": 42,
   "metadata": {},
   "outputs": [],
   "source": [
    "myInputUpdate = int(input('Introduza um numero, por favor')) * 2"
   ]
  },
  {
   "cell_type": "markdown",
   "metadata": {},
   "source": [
    "## Apresentação de dados por *print*\n",
    "## Tipos de dados diferentes"
   ]
  },
  {
   "cell_type": "code",
   "execution_count": null,
   "metadata": {},
   "outputs": [
    {
     "name": "stdout",
     "output_type": "stream",
     "text": [
      "20\n",
      "O numero introduzido pelo utilizador multiplicado por 2 é: 20\n"
     ]
    }
   ],
   "source": [
    "print(myInputUpdate)\n",
    "print('O numero introduzido pelo utilizador multiplicado por 2 é:',myInputUpdate)\n",
    " # Apresentação de dados sem formatação"
   ]
  },
  {
   "cell_type": "code",
   "execution_count": 46,
   "metadata": {},
   "outputs": [
    {
     "name": "stdout",
     "output_type": "stream",
     "text": [
      "O numero introduzido pelo utilizador multiplicado por 2 é: 20 print terminado\n"
     ]
    }
   ],
   "source": [
    "print('O numero introduzido pelo utilizador multiplicado por 2 é:',myInputUpdate, 'print terminado')"
   ]
  },
  {
   "cell_type": "markdown",
   "metadata": {},
   "source": [
    "## Apresentação dados por concatenação de strings"
   ]
  },
  {
   "cell_type": "code",
   "execution_count": null,
   "metadata": {},
   "outputs": [],
   "source": [
    "in1,in2 = int(input('Introduza o primeiro numero')), int(input('Introduza o segundo numero'))\n"
   ]
  },
  {
   "cell_type": "code",
   "execution_count": 51,
   "metadata": {},
   "outputs": [
    {
     "name": "stdout",
     "output_type": "stream",
     "text": [
      "O primeiro numero introduzido foi:10\n",
      "O segundo numero introduzido foi:20\n"
     ]
    }
   ],
   "source": [
    "print('O primeiro numero introduzido foi:' + str(in1)) # Concatenação de string com casting\n",
    "print('O segundo numero introduzido foi:' + str(in2)) # Concatenação de string com casting"
   ]
  },
  {
   "cell_type": "code",
   "execution_count": null,
   "metadata": {},
   "outputs": [
    {
     "name": "stdout",
     "output_type": "stream",
     "text": [
      "30\n"
     ]
    }
   ],
   "source": [
    "print(in1 + in2) # Operação aritmética de soma se conter inteiros ou float"
   ]
  },
  {
   "cell_type": "markdown",
   "metadata": {},
   "source": [
    "# ATENÇÃO!!!\n",
    "- Aplicar o comando print() para output dados para o utilizador\n",
    "- Contactenação de texto através de variáveis do tipo str com sinal +\n",
    "- Sinal + com inteiros a float aplica operação artimética de soma"
   ]
  },
  {
   "cell_type": "markdown",
   "metadata": {},
   "source": [
    "# 3. Comandos de formatação\n",
    "## 3.1. Mudança de linha"
   ]
  },
  {
   "cell_type": "code",
   "execution_count": 53,
   "metadata": {},
   "outputs": [],
   "source": [
    "in1,in2 = int(input('Introduza o primeiro numero')), int(input('Introduza o segundo numero'))"
   ]
  },
  {
   "cell_type": "code",
   "execution_count": 56,
   "metadata": {},
   "outputs": [
    {
     "name": "stdout",
     "output_type": "stream",
     "text": [
      "O primeiro numero introduzido foi:60\n",
      "\n",
      "\n",
      "O segundo numero introduzido foi:120\n"
     ]
    }
   ],
   "source": [
    "print('O primeiro numero introduzido foi:' + str(in1) + '\\n\\n\\nO segundo numero introduzido foi:' + str(in2)) # Concatenação de string com casting\n"
   ]
  },
  {
   "cell_type": "markdown",
   "metadata": {},
   "source": [
    "## Especificar string ignorando os comandos especiais"
   ]
  },
  {
   "cell_type": "code",
   "execution_count": 57,
   "metadata": {},
   "outputs": [
    {
     "name": "stdout",
     "output_type": "stream",
     "text": [
      "O primeiro numero introduzido foi:60\\n\\n\\nO segundo numero introduzido foi:120\n"
     ]
    }
   ],
   "source": [
    "print(r'O primeiro numero introduzido foi:' + str(in1) + r'\\n\\n\\nO segundo numero introduzido foi:' + str(in2)) # Concatenação de string com casting"
   ]
  },
  {
   "cell_type": "markdown",
   "metadata": {},
   "source": [
    "## 3.2. Tabulação\n",
    "- Escrita de código em 2 linhas para executarem o mesmo comando "
   ]
  },
  {
   "cell_type": "code",
   "execution_count": 58,
   "metadata": {},
   "outputs": [],
   "source": [
    "pnome, unome, idade, altura = input('Introduza o primeiro nome'), input('Introduza o ultimo nome'),\\\n",
    "int(input('Introduza a idade')), float(input('Introduza a altura'))"
   ]
  },
  {
   "cell_type": "code",
   "execution_count": 60,
   "metadata": {},
   "outputs": [
    {
     "name": "stdout",
     "output_type": "stream",
     "text": [
      "O primeiro nome introduzido foi:João\n",
      "\tO ultimo nome introduzido foi:Araújo\n",
      "\t\tA idade introduzida foi:40\n",
      "\t\t\tA altura introduzida foi:1.78\n"
     ]
    }
   ],
   "source": [
    "print('O primeiro nome introduzido foi:' + pnome + \n",
    "      '\\n\\tO ultimo nome introduzido foi:' + unome + \n",
    "      '\\n\\t\\tA idade introduzida foi:' + str(idade) +\n",
    "      '\\n\\t\\t\\tA altura introduzida foi:' + str(altura))"
   ]
  },
  {
   "cell_type": "code",
   "execution_count": 68,
   "metadata": {},
   "outputs": [
    {
     "name": "stdout",
     "output_type": "stream",
     "text": [
      "João\tAraújo\t40\t1.78\n",
      "João\tAraújo\t40\t1.78\n"
     ]
    }
   ],
   "source": [
    "print(pnome + '\\t' + unome + '\\t' + str(idade) + '\\t' + str(altura))\n",
    "print(pnome + '\\t' + unome + '\\t' + str(idade) + '\\t' + str(altura))"
   ]
  },
  {
   "cell_type": "markdown",
   "metadata": {},
   "source": [
    "## 3.3. Colocação de multiplas variáveis no mesmo print, na mesma *string*"
   ]
  },
  {
   "cell_type": "code",
   "execution_count": 69,
   "metadata": {},
   "outputs": [],
   "source": [
    "pnome, unome, idade, altura = input('Introduza o primeiro nome'), input('Introduza o ultimo nome'),\\\n",
    "int(input('Introduza a idade')), float(input('Introduza a altura'))"
   ]
  },
  {
   "cell_type": "markdown",
   "metadata": {},
   "source": [
    "### 3.3.1. Método de referências"
   ]
  },
  {
   "cell_type": "code",
   "execution_count": null,
   "metadata": {},
   "outputs": [
    {
     "name": "stdout",
     "output_type": "stream",
     "text": [
      "Nome da pessoa: João Araújo\n",
      "Idade da pessoa: 40\n",
      "Altura da pessoa: 2\n"
     ]
    }
   ],
   "source": [
    "print('Nome da pessoa: %s %s\\nIdade da pessoa: %i\\nAltura da pessoa: %.0f' % (pnome,unome,idade,altura))\n",
    "\n",
    "# %s - referência para string\n",
    "# %d ou %i - referência para inteiro\n",
    "# %f - referência para float\n",
    "# %.2f - Formatação para 2 casas decimais\n",
    "# %.1f - Formatação para 1 casa decimal. Faz arredondamento se a ultima casa decimal for >= 5\n",
    "# %.0f - Formatação para 1 casa decimal. Faz arredondamento da parte inteira se a parte decimal for >= 5\n"
   ]
  },
  {
   "attachments": {
    "image.png": {
     "image/png": "[encoded data removed]"
    }
   },
   "cell_type": "markdown",
   "metadata": {},
   "source": [
    "![image.png](attachment:image.png)\n",
    "\n",
    "[Link para simbolos de notação de referências](https://docs.python.org/3/library/stdtypes.html)"
   ]
  },
  {
   "cell_type": "markdown",
   "metadata": {},
   "source": [
    "### 3.3.2. Função Format"
   ]
  },
  {
   "cell_type": "code",
   "execution_count": null,
   "metadata": {},
   "outputs": [
    {
     "name": "stdout",
     "output_type": "stream",
     "text": [
      "Nome da pessoa: João Araújo\n",
      "Idade da pessoa: 40\n",
      "Altura da pessoa: 1.78\n"
     ]
    }
   ],
   "source": [
    "print('Nome da pessoa: {} {}\\nIdade da pessoa: {}\\nAltura da pessoa: {:.1f}'.format(pnome,unome,idade,altura))\n",
    "\n",
    "# Não é necessário especificar qual o tipo de variável a colocar na string\n",
    "# :1f - Faz arredondamento se a ultima casa decimal for >= 5."
   ]
  },
  {
   "cell_type": "markdown",
   "metadata": {},
   "source": [
    "### 3.3.3. F-String"
   ]
  },
  {
   "cell_type": "code",
   "execution_count": null,
   "metadata": {},
   "outputs": [
    {
     "name": "stdout",
     "output_type": "stream",
     "text": [
      "Nome da pessoa: João Araújo\n",
      "Idade da pessoa: 40\n",
      "Altura da pessoa: 1.8\n"
     ]
    }
   ],
   "source": [
    "print(f'Nome da pessoa: {pnome} {unome}\\nIdade da pessoa: {idade}\\nAltura da pessoa: {altura:.1f}')\n",
    "\n",
    "# Não é necessário especificar qual o tipo de variável a colocar na string\n",
    "# :1f - Faz arredondamento se a ultima casa decimal for >= 5."
   ]
  }
 ],
 "metadata": {
  "kernelspec": {
   "display_name": "UFCD_10793_3_N",
   "language": "python",
   "name": "python3"
  },
  "language_info": {
   "codemirror_mode": {
    "name": "ipython",
    "version": 3
   },
   "file_extension": ".py",
   "mimetype": "text/x-python",
   "name": "python",
   "nbconvert_exporter": "python",
   "pygments_lexer": "ipython3",
   "version": "3.12.7"
  }
 },
 "nbformat": 4,
 "nbformat_minor": 2
}
