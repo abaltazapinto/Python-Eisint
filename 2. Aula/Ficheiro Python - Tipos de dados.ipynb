{
 "cells": [
  {
   "cell_type": "markdown",
   "metadata": {},
   "source": [
    "# 1.Tipos de dados\n",
    "## 1.1. Dados singurares"
   ]
  },
  {
   "cell_type": "code",
   "execution_count": 2,
   "metadata": {},
   "outputs": [],
   "source": [
    "varInt = 10\n",
    "varFloat = 1.9\n",
    "varComplex = 1 + 2j\n",
    "carString = 'Python'\n",
    "varBool = True # ou False\n",
    "varBytes = b'111011101010'"
   ]
  },
  {
   "cell_type": "markdown",
   "metadata": {},
   "source": [
    "## Método *casting* para todos os tipos de dados singulares"
   ]
  },
  {
   "cell_type": "code",
   "execution_count": 19,
   "metadata": {},
   "outputs": [],
   "source": [
    "varIntCasting = int('12345678')\n",
    "varFloatCasting = float('19,5'.replace(',','.'))\n",
    "varComplexCasting = complex(25)\n",
    "varStringCasting = str(555)\n",
    "varBoolCasting = bool(0.0) # Para ser False, obrigatoriamente terá que ser 0, seja em int, float ou str\n",
    "varBytesCasting = bytes('^','UTF-8')"
   ]
  },
  {
   "cell_type": "markdown",
   "metadata": {},
   "source": [
    "## 1.2. Coleção de dados\n",
    "### 1.2.1. Listas"
   ]
  },
  {
   "cell_type": "code",
   "execution_count": 3,
   "metadata": {},
   "outputs": [
    {
     "name": "stdout",
     "output_type": "stream",
     "text": [
      "40\n",
      "Nome da pessoa: João Araújo\n",
      "Idade da pessoa: 40\n",
      "Altura da pessoa: 1.78\n"
     ]
    }
   ],
   "source": [
    "varList = ['João','Araújo', 40, 1.78, True]\n",
    "# indices    0       1       2    3    4\n",
    "\n",
    "print(varList[2])\n",
    "\n",
    "print(f'Nome da pessoa: {varList[0]} {varList[1]}\\nIdade da pessoa: {varList[2]}\\nAltura da pessoa: {varList[3]}')"
   ]
  },
  {
   "cell_type": "markdown",
   "metadata": {},
   "source": [
    "## Elementos repetidos e substituição"
   ]
  },
  {
   "cell_type": "code",
   "execution_count": 26,
   "metadata": {},
   "outputs": [
    {
     "name": "stdout",
     "output_type": "stream",
     "text": [
      "['João', 'Pedro', 'Araújo', 40, 1.78, True]\n"
     ]
    }
   ],
   "source": [
    "varList = ['João','Araújo', 'Araújo', 40, 1.78, True]\n",
    "# indices    0       1          2      3    4    5\n",
    "\n",
    "varList[1] = 'Pedro'\n",
    "\n",
    "print(varList)"
   ]
  },
  {
   "cell_type": "markdown",
   "metadata": {},
   "source": [
    "## Eliminar elementos por conteúdo"
   ]
  },
  {
   "cell_type": "code",
   "execution_count": 28,
   "metadata": {},
   "outputs": [
    {
     "name": "stdout",
     "output_type": "stream",
     "text": [
      "['João', 'Pedro', 'Araújo', 1.78, True]\n"
     ]
    }
   ],
   "source": [
    "# Criar backup da lista original com a função copy()\n",
    "\n",
    "varList2 = varList.copy()\n",
    "\n",
    "varList2.remove(40)\n",
    "\n",
    "print(varList2)"
   ]
  },
  {
   "cell_type": "code",
   "execution_count": null,
   "metadata": {},
   "outputs": [
    {
     "name": "stdout",
     "output_type": "stream",
     "text": [
      "1.78\n"
     ]
    }
   ],
   "source": [
    "print(varList2[3]) # Redefinição da indexação da lista após a operação de eliminar conteúdo"
   ]
  },
  {
   "cell_type": "markdown",
   "metadata": {},
   "source": [
    "### 1.2.2. Tuplos ou *Tuple*"
   ]
  },
  {
   "cell_type": "code",
   "execution_count": null,
   "metadata": {},
   "outputs": [
    {
     "name": "stdout",
     "output_type": "stream",
     "text": [
      "Araújo\n",
      "1\n",
      "3\n"
     ]
    }
   ],
   "source": [
    "varTuple = ('João','Araújo', 40, 1.78, True)\n",
    "# indices    0       1       2    3    4\n",
    "\n",
    "varTuple2 = 'João','Araújo', 40, 1.78, True\n",
    "# indices    0       1       2    3    4\n",
    "\n",
    "# varTuple[0] = 'Pedro' -> Operação inválida. Não é possivel alterar conteúdo num tuplo\n",
    "\n",
    "print(varTuple[1])\n",
    "\n",
    "print(varTuple.count(40))\n",
    "\n",
    "print(varTuple.index(1.78))"
   ]
  },
  {
   "cell_type": "markdown",
   "metadata": {},
   "source": [
    "## Método casting em coleção de dados\n",
    "### Lista para Tuplo"
   ]
  },
  {
   "cell_type": "code",
   "execution_count": 36,
   "metadata": {},
   "outputs": [],
   "source": [
    "varListToTuple = tuple(varList)"
   ]
  },
  {
   "cell_type": "code",
   "execution_count": 37,
   "metadata": {},
   "outputs": [
    {
     "name": "stdout",
     "output_type": "stream",
     "text": [
      "['__add__', '__class__', '__class_getitem__', '__contains__', '__delattr__', '__delitem__', '__dir__', '__doc__', '__eq__', '__format__', '__ge__', '__getattribute__', '__getitem__', '__getstate__', '__gt__', '__hash__', '__iadd__', '__imul__', '__init__', '__init_subclass__', '__iter__', '__le__', '__len__', '__lt__', '__mul__', '__ne__', '__new__', '__reduce__', '__reduce_ex__', '__repr__', '__reversed__', '__rmul__', '__setattr__', '__setitem__', '__sizeof__', '__str__', '__subclasshook__', 'append', 'clear', 'copy', 'count', 'extend', 'index', 'insert', 'pop', 'remove', 'reverse', 'sort']\n"
     ]
    }
   ],
   "source": [
    "print(dir(varList))"
   ]
  },
  {
   "cell_type": "markdown",
   "metadata": {},
   "source": [
    "### Tuplo para lista"
   ]
  },
  {
   "cell_type": "code",
   "execution_count": 38,
   "metadata": {},
   "outputs": [],
   "source": [
    "varTupleToList = list(varTuple)"
   ]
  },
  {
   "cell_type": "markdown",
   "metadata": {},
   "source": [
    "# ATENÇÃO: NÃO FAZER O QUE ESTÁ ABAIXO"
   ]
  },
  {
   "cell_type": "code",
   "execution_count": null,
   "metadata": {},
   "outputs": [],
   "source": [
    "varTuple = list(varTuple) # Declaração explicita de conversão de tuplo para lista"
   ]
  },
  {
   "cell_type": "markdown",
   "metadata": {},
   "source": [
    "### 1.2.4.Dicionarios"
   ]
  },
  {
   "cell_type": "code",
   "execution_count": 10,
   "metadata": {},
   "outputs": [
    {
     "name": "stdout",
     "output_type": "stream",
     "text": [
      "João Araújo\n"
     ]
    }
   ],
   "source": [
    "varDict = {'pnome':'João', 'unome':'Araújo', 'idade':28, 'altura':1.78}\n",
    "\n",
    "print(varDict['pnome'], varDict['unome'])"
   ]
  },
  {
   "cell_type": "code",
   "execution_count": 12,
   "metadata": {},
   "outputs": [],
   "source": [
    "varDictAlt = {\n",
    "    0 : {'pnome':'João', 'unome':'Araújo', 'idade':28, 'altura':1.78},\n",
    "    1 : {'pnome':'Ana', 'unome':'Pacheco', 'idade':25, 'altura':1.90},\n",
    "    2 : {'pnome':'Nuno', 'unome':'Garcez', 'idade':40, 'altura':1.65}\n",
    "}"
   ]
  },
  {
   "cell_type": "markdown",
   "metadata": {},
   "source": [
    "'''\n",
    "    pnome   unome  idade    altura\n",
    "0   João    Araujo  40      1.78\n",
    "\n",
    "'''"
   ]
  },
  {
   "cell_type": "code",
   "execution_count": 21,
   "metadata": {},
   "outputs": [
    {
     "name": "stdout",
     "output_type": "stream",
     "text": [
      "25\n"
     ]
    }
   ],
   "source": [
    "print(varDictAlt[1]['idade'])"
   ]
  },
  {
   "cell_type": "code",
   "execution_count": 22,
   "metadata": {},
   "outputs": [
    {
     "name": "stdout",
     "output_type": "stream",
     "text": [
      "1.65\n"
     ]
    }
   ],
   "source": [
    "print(varDictAlt[2]['altura'])"
   ]
  },
  {
   "cell_type": "code",
   "execution_count": 23,
   "metadata": {},
   "outputs": [
    {
     "name": "stdout",
     "output_type": "stream",
     "text": [
      "A idade da aluna Ana Pacheco é de 25 anos \n"
     ]
    }
   ],
   "source": [
    "print(f'A idade da aluna {varDictAlt[1]['pnome']} {varDictAlt[1]['unome']} é de {varDictAlt[1]['idade']} anos ')"
   ]
  },
  {
   "cell_type": "markdown",
   "metadata": {},
   "source": [
    "# Acrescentar / Atualizar elementos ao dicionario"
   ]
  },
  {
   "cell_type": "code",
   "execution_count": null,
   "metadata": {},
   "outputs": [],
   "source": [
    "varDictAlt.update( {'pnome':'Ricardo', 'unome':'Pinheiro', 'idade':29, 'altura':1.75})"
   ]
  },
  {
   "cell_type": "code",
   "execution_count": null,
   "metadata": {},
   "outputs": [],
   "source": []
  },
  {
   "cell_type": "markdown",
   "metadata": {},
   "source": [
    "# Eliminar as palavras chaves"
   ]
  },
  {
   "cell_type": "code",
   "execution_count": 24,
   "metadata": {},
   "outputs": [
    {
     "data": {
      "text/plain": [
       "{'pnome': 'Ana', 'unome': 'Pacheco', 'idade': 25, 'altura': 1.9}"
      ]
     },
     "execution_count": 24,
     "metadata": {},
     "output_type": "execute_result"
    }
   ],
   "source": [
    "varDictAlt.pop(1)"
   ]
  },
  {
   "cell_type": "code",
   "execution_count": 25,
   "metadata": {},
   "outputs": [],
   "source": [
    "## Extrair palavras-chave do dicionario"
   ]
  },
  {
   "cell_type": "code",
   "execution_count": null,
   "metadata": {},
   "outputs": [],
   "source": [
    "varDictKeys = varDictAlt.keys()\n",
    "\n",
    "varDictKeysList = list(varDictKeys)"
   ]
  },
  {
   "cell_type": "code",
   "execution_count": 27,
   "metadata": {},
   "outputs": [],
   "source": [
    "varDictKeys = varDictAlt[0].keys()\n",
    "\n",
    "varDictKeysList = list(varDictKeys)"
   ]
  },
  {
   "cell_type": "markdown",
   "metadata": {},
   "source": [
    "# Extrair valors do dicionario"
   ]
  },
  {
   "cell_type": "code",
   "execution_count": null,
   "metadata": {},
   "outputs": [
    {
     "name": "stdout",
     "output_type": "stream",
     "text": [
      "dict_values([{'pnome': 'João', 'unome': 'Araújo', 'idade': 28, 'altura': 1.78}, {'pnome': 'Nuno', 'unome': 'Garcez', 'idade': 40, 'altura': 1.65}])\n"
     ]
    }
   ],
   "source": [
    "import pandas as pd\n",
    "\n",
    "varDictValues = varDictAlt.values()\n",
    "\n",
    "varDictValuesList = list(varDictValues)\n",
    "\n",
    "print(varDictValues)\n",
    "\n",
    "varTest = pd.DataFrame(varDictValuesList)"
   ]
  }
 ],
 "metadata": {
  "kernelspec": {
   "display_name": "base",
   "language": "python",
   "name": "python3"
  },
  "language_info": {
   "codemirror_mode": {
    "name": "ipython",
    "version": 3
   },
   "file_extension": ".py",
   "mimetype": "text/x-python",
   "name": "python",
   "nbconvert_exporter": "python",
   "pygments_lexer": "ipython3",
   "version": "3.12.7"
  }
 },
 "nbformat": 4,
 "nbformat_minor": 2
}
