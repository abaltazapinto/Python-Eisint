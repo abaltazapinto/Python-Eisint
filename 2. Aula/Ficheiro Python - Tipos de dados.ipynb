{
 "cells": [
  {
   "cell_type": "markdown",
   "metadata": {},
   "source": [
    "# 1.Tipos de dados\n",
    "## 1.1. Dados singurares"
   ]
  },
  {
   "cell_type": "code",
   "execution_count": 2,
   "metadata": {},
   "outputs": [],
   "source": [
    "varInt = 10\n",
    "varFloat = 1.9\n",
    "varComplex = 1 + 2j\n",
    "carString = 'Python'\n",
    "varBool = True # ou False\n",
    "varBytes = b'111011101010'"
   ]
  },
  {
   "cell_type": "markdown",
   "metadata": {},
   "source": [
    "## Método *casting* para todos os tipos de dados singulares"
   ]
  },
  {
   "cell_type": "code",
   "execution_count": 19,
   "metadata": {},
   "outputs": [],
   "source": [
    "varIntCasting = int('12345678')\n",
    "varFloatCasting = float('19,5'.replace(',','.'))\n",
    "varComplexCasting = complex(25)\n",
    "varStringCasting = str(555)\n",
    "varBoolCasting = bool(0.0) # Para ser False, obrigatoriamente terá que ser 0, seja em int, float ou str\n",
    "varBytesCasting = bytes('^','UTF-8')"
   ]
  },
  {
   "cell_type": "markdown",
   "metadata": {},
   "source": [
    "## 1.2. Coleção de dados\n",
    "### 1.2.1. Listas"
   ]
  },
  {
   "cell_type": "code",
   "execution_count": 3,
   "metadata": {},
   "outputs": [
    {
     "name": "stdout",
     "output_type": "stream",
     "text": [
      "40\n",
      "Nome da pessoa: João Araújo\n",
      "Idade da pessoa: 40\n",
      "Altura da pessoa: 1.78\n"
     ]
    }
   ],
   "source": [
    "varList = ['João','Araújo', 40, 1.78, True]\n",
    "# indices    0       1       2    3    4\n",
    "\n",
    "print(varList[2])\n",
    "\n",
    "print(f'Nome da pessoa: {varList[0]} {varList[1]}\\nIdade da pessoa: {varList[2]}\\nAltura da pessoa: {varList[3]}')"
   ]
  },
  {
   "cell_type": "markdown",
   "metadata": {},
   "source": [
    "## Elementos repetidos e substituição"
   ]
  },
  {
   "cell_type": "code",
   "execution_count": 26,
   "metadata": {},
   "outputs": [
    {
     "name": "stdout",
     "output_type": "stream",
     "text": [
      "['João', 'Pedro', 'Araújo', 40, 1.78, True]\n"
     ]
    }
   ],
   "source": [
    "varList = ['João','Araújo', 'Araújo', 40, 1.78, True]\n",
    "# indices    0       1          2      3    4    5\n",
    "\n",
    "varList[1] = 'Pedro'\n",
    "\n",
    "print(varList)"
   ]
  },
  {
   "cell_type": "markdown",
   "metadata": {},
   "source": [
    "## Eliminar elementos por conteúdo"
   ]
  },
  {
   "cell_type": "code",
   "execution_count": 28,
   "metadata": {},
   "outputs": [
    {
     "name": "stdout",
     "output_type": "stream",
     "text": [
      "['João', 'Pedro', 'Araújo', 1.78, True]\n"
     ]
    }
   ],
   "source": [
    "# Criar backup da lista original com a função copy()\n",
    "\n",
    "varList2 = varList.copy()\n",
    "\n",
    "varList2.remove(40)\n",
    "\n",
    "print(varList2)"
   ]
  },
  {
   "cell_type": "code",
   "execution_count": null,
   "metadata": {},
   "outputs": [
    {
     "name": "stdout",
     "output_type": "stream",
     "text": [
      "1.78\n"
     ]
    }
   ],
   "source": [
    "print(varList2[3]) # Redefinição da indexação da lista após a operação de eliminar conteúdo"
   ]
  },
  {
   "cell_type": "markdown",
   "metadata": {},
   "source": [
    "### 1.2.2. Tuplos ou *Tuple*"
   ]
  },
  {
   "cell_type": "code",
   "execution_count": null,
   "metadata": {},
   "outputs": [
    {
     "name": "stdout",
     "output_type": "stream",
     "text": [
      "Araújo\n",
      "1\n",
      "3\n"
     ]
    }
   ],
   "source": [
    "varTuple = ('João','Araújo', 40, 1.78, True)\n",
    "# indices    0       1       2    3    4\n",
    "\n",
    "varTuple2 = 'João','Araújo', 40, 1.78, True\n",
    "# indices    0       1       2    3    4\n",
    "\n",
    "# varTuple[0] = 'Pedro' -> Operação inválida. Não é possivel alterar conteúdo num tuplo\n",
    "\n",
    "print(varTuple[1])\n",
    "\n",
    "print(varTuple.count(40))\n",
    "\n",
    "print(varTuple.index(1.78))"
   ]
  },
  {
   "cell_type": "markdown",
   "metadata": {},
   "source": [
    "## Método casting em coleção de dados\n",
    "### Lista para Tuplo"
   ]
  },
  {
   "cell_type": "code",
   "execution_count": 36,
   "metadata": {},
   "outputs": [],
   "source": [
    "varListToTuple = tuple(varList)"
   ]
  },
  {
   "cell_type": "code",
   "execution_count": 37,
   "metadata": {},
   "outputs": [
    {
     "name": "stdout",
     "output_type": "stream",
     "text": [
      "['__add__', '__class__', '__class_getitem__', '__contains__', '__delattr__', '__delitem__', '__dir__', '__doc__', '__eq__', '__format__', '__ge__', '__getattribute__', '__getitem__', '__getstate__', '__gt__', '__hash__', '__iadd__', '__imul__', '__init__', '__init_subclass__', '__iter__', '__le__', '__len__', '__lt__', '__mul__', '__ne__', '__new__', '__reduce__', '__reduce_ex__', '__repr__', '__reversed__', '__rmul__', '__setattr__', '__setitem__', '__sizeof__', '__str__', '__subclasshook__', 'append', 'clear', 'copy', 'count', 'extend', 'index', 'insert', 'pop', 'remove', 'reverse', 'sort']\n"
     ]
    }
   ],
   "source": [
    "print(dir(varList))"
   ]
  },
  {
   "cell_type": "markdown",
   "metadata": {},
   "source": [
    "### Tuplo para lista"
   ]
  },
  {
   "cell_type": "code",
   "execution_count": 38,
   "metadata": {},
   "outputs": [],
   "source": [
    "varTupleToList = list(varTuple)"
   ]
  },
  {
   "cell_type": "markdown",
   "metadata": {},
   "source": [
    "# ATENÇÃO: NÃO FAZER O QUE ESTÁ ABAIXO"
   ]
  },
  {
   "cell_type": "code",
   "execution_count": null,
   "metadata": {},
   "outputs": [],
   "source": [
    "varTuple = list(varTuple) # Declaração explicita de conversão de tuplo para lista"
   ]
  },
  {
   "cell_type": "markdown",
   "metadata": {},
   "source": [
    "### 1.2.4.Dicionarios"
   ]
  },
  {
   "cell_type": "code",
   "execution_count": 10,
   "metadata": {},
   "outputs": [
    {
     "name": "stdout",
     "output_type": "stream",
     "text": [
      "João Araújo\n"
     ]
    }
   ],
   "source": [
    "varDict = {'pnome':'João', 'unome':'Araújo', 'idade':28, 'altura':1.78}\n",
    "\n",
    "print(varDict['pnome'], varDict['unome'])"
   ]
  },
  {
   "cell_type": "code",
   "execution_count": 12,
   "metadata": {},
   "outputs": [],
   "source": [
    "varDictAlt = {\n",
    "    0 : {'pnome':'João', 'unome':'Araújo', 'idade':28, 'altura':1.78},\n",
    "    1 : {'pnome':'Ana', 'unome':'Pacheco', 'idade':25, 'altura':1.90},\n",
    "    2 : {'pnome':'Nuno', 'unome':'Garcez', 'idade':40, 'altura':1.65}\n",
    "}"
   ]
  },
  {
   "cell_type": "markdown",
   "metadata": {},
   "source": [
    "'''\n",
    "    pnome   unome  idade    altura\n",
    "0   João    Araujo  40      1.78\n",
    "\n",
    "'''"
   ]
  },
  {
   "cell_type": "code",
   "execution_count": 21,
   "metadata": {},
   "outputs": [
    {
     "name": "stdout",
     "output_type": "stream",
     "text": [
      "25\n"
     ]
    }
   ],
   "source": [
    "print(varDictAlt[1]['idade'])"
   ]
  },
  {
   "cell_type": "code",
   "execution_count": 22,
   "metadata": {},
   "outputs": [
    {
     "name": "stdout",
     "output_type": "stream",
     "text": [
      "1.65\n"
     ]
    }
   ],
   "source": [
    "print(varDictAlt[2]['altura'])"
   ]
  },
  {
   "cell_type": "code",
   "execution_count": 23,
   "metadata": {},
   "outputs": [
    {
     "name": "stdout",
     "output_type": "stream",
     "text": [
      "A idade da aluna Ana Pacheco é de 25 anos \n"
     ]
    }
   ],
   "source": [
    "print(f'A idade da aluna {varDictAlt[1]['pnome']} {varDictAlt[1]['unome']} é de {varDictAlt[1]['idade']} anos ')"
   ]
  },
  {
   "cell_type": "markdown",
   "metadata": {},
   "source": [
    "# Acrescentar / Atualizar elementos ao dicionario"
   ]
  },
  {
   "cell_type": "code",
   "execution_count": null,
   "metadata": {},
   "outputs": [],
   "source": [
    "varDictAlt.update( {'pnome':'Ricardo', 'unome':'Pinheiro', 'idade':29, 'altura':1.75})"
   ]
  },
  {
   "cell_type": "code",
   "execution_count": null,
   "metadata": {},
   "outputs": [],
   "source": []
  },
  {
   "cell_type": "markdown",
   "metadata": {},
   "source": [
    "# Eliminar as palavras chaves"
   ]
  },
  {
   "cell_type": "code",
   "execution_count": 24,
   "metadata": {},
   "outputs": [
    {
     "data": {
      "text/plain": [
       "{'pnome': 'Ana', 'unome': 'Pacheco', 'idade': 25, 'altura': 1.9}"
      ]
     },
     "execution_count": 24,
     "metadata": {},
     "output_type": "execute_result"
    }
   ],
   "source": [
    "varDictAlt.pop(1)"
   ]
  },
  {
   "cell_type": "code",
   "execution_count": 25,
   "metadata": {},
   "outputs": [],
   "source": [
    "## Extrair palavras-chave do dicionario"
   ]
  },
  {
   "cell_type": "code",
   "execution_count": null,
   "metadata": {},
   "outputs": [],
   "source": [
    "varDictKeys = varDictAlt.keys()\n",
    "\n",
    "varDictKeysList = list(varDictKeys)"
   ]
  },
  {
   "cell_type": "code",
   "execution_count": 27,
   "metadata": {},
   "outputs": [],
   "source": [
    "varDictKeys = varDictAlt[0].keys()\n",
    "\n",
    "varDictKeysList = list(varDictKeys)"
   ]
  },
  {
   "cell_type": "markdown",
   "metadata": {},
   "source": [
    "# Extrair valors do dicionario"
   ]
  },
  {
   "cell_type": "code",
   "execution_count": 29,
   "metadata": {},
   "outputs": [
    {
     "name": "stdout",
     "output_type": "stream",
     "text": [
      "dict_values([{'pnome': 'João', 'unome': 'Araújo', 'idade': 28, 'altura': 1.78}, {'pnome': 'Nuno', 'unome': 'Garcez', 'idade': 40, 'altura': 1.65}])\n"
     ]
    }
   ],
   "source": [
    "import pandas as pd\n",
    "\n",
    "varDictValues = varDictAlt.values()\n",
    "\n",
    "varDictValuesList = list(varDictValues)\n",
    "\n",
    "print(varDictValues)\n",
    "\n",
    "varTest = pd.DataFrame(varDictValuesList)"
   ]
  },
  {
   "cell_type": "markdown",
   "metadata": {},
   "source": [
    "# 2. Funcoes implicitas"
   ]
  },
  {
   "cell_type": "markdown",
   "metadata": {},
   "source": [
    "## 2.1 Range"
   ]
  },
  {
   "cell_type": "code",
   "execution_count": null,
   "metadata": {},
   "outputs": [
    {
     "name": "stdout",
     "output_type": "stream",
     "text": [
      "0\n",
      "1\n",
      "2\n",
      "3\n",
      "4\n",
      "5\n",
      "6\n",
      "7\n",
      "8\n",
      "9\n"
     ]
    }
   ],
   "source": [
    "x = range(0,10,1) # criar um arranjo de numeros de 0 a 10 exclusivo: 0, 1 ,2,3,4,5,6,7,8,9\n",
    "\n",
    "for i in x:\n",
    "    print(i)"
   ]
  },
  {
   "cell_type": "code",
   "execution_count": null,
   "metadata": {},
   "outputs": [
    {
     "name": "stdout",
     "output_type": "stream",
     "text": [
      "1\n",
      "4\n",
      "7\n",
      "10\n",
      "13\n",
      "16\n",
      "19\n",
      "22\n",
      "25\n",
      "28\n"
     ]
    }
   ],
   "source": [
    "x = range(1,30,3) \n",
    "\n",
    "for i in x:\n",
    "    print(i)"
   ]
  },
  {
   "cell_type": "code",
   "execution_count": 40,
   "metadata": {},
   "outputs": [
    {
     "data": {
      "text/plain": [
       "[{'pnome': 'João', 'unome': 'Araújo', 'idade': 28, 'altura': 1.78},\n",
       " {'pnome': 'Nuno', 'unome': 'Garcez', 'idade': 40, 'altura': 1.65}]"
      ]
     },
     "execution_count": 40,
     "metadata": {},
     "output_type": "execute_result"
    }
   ],
   "source": [
    "varDictValuesList"
   ]
  },
  {
   "cell_type": "markdown",
   "metadata": {},
   "source": [
    "### Criar um arranjo de numero de elementos de uma lista \n",
    "### NUmero de elementos de uma lista(ou qualquer colecao de dados iteravel)"
   ]
  },
  {
   "cell_type": "code",
   "execution_count": 41,
   "metadata": {},
   "outputs": [
    {
     "data": {
      "text/plain": [
       "2"
      ]
     },
     "execution_count": 41,
     "metadata": {},
     "output_type": "execute_result"
    }
   ],
   "source": [
    "len(varDictValuesList)"
   ]
  },
  {
   "cell_type": "code",
   "execution_count": 43,
   "metadata": {},
   "outputs": [
    {
     "name": "stdout",
     "output_type": "stream",
     "text": [
      "0\n",
      "1\n"
     ]
    }
   ],
   "source": [
    "x = range(len(varDictValuesList))\n",
    "for i in x:\n",
    "    print(i)"
   ]
  },
  {
   "cell_type": "code",
   "execution_count": 44,
   "metadata": {},
   "outputs": [
    {
     "name": "stdout",
     "output_type": "stream",
     "text": [
      "{'pnome': 'João', 'unome': 'Araújo', 'idade': 28, 'altura': 1.78}\n",
      "{'pnome': 'Nuno', 'unome': 'Garcez', 'idade': 40, 'altura': 1.65}\n"
     ]
    }
   ],
   "source": [
    "x = range(len(varDictValuesList))\n",
    "for i in x:\n",
    "    print(varDictValuesList[i])"
   ]
  },
  {
   "cell_type": "code",
   "execution_count": 45,
   "metadata": {},
   "outputs": [
    {
     "name": "stdout",
     "output_type": "stream",
     "text": [
      "-1\n",
      "-3\n",
      "-5\n",
      "-7\n",
      "-9\n",
      "-11\n",
      "-13\n",
      "-15\n",
      "-17\n",
      "-19\n",
      "-21\n",
      "-23\n",
      "-25\n",
      "-27\n",
      "-29\n",
      "-31\n",
      "-33\n",
      "-35\n",
      "-37\n",
      "-39\n",
      "-41\n",
      "-43\n",
      "-45\n",
      "-47\n",
      "-49\n",
      "-51\n",
      "-53\n",
      "-55\n",
      "-57\n"
     ]
    }
   ],
   "source": [
    "for i in range (-1,-58,-2):\n",
    "    print(i)"
   ]
  },
  {
   "cell_type": "markdown",
   "metadata": {},
   "source": [
    "## 2.2. Frozenset"
   ]
  },
  {
   "cell_type": "code",
   "execution_count": null,
   "metadata": {},
   "outputs": [
    {
     "name": "stdout",
     "output_type": "stream",
     "text": [
      "frozenset({'Araújo', 1.78, 'João', 28})\n"
     ]
    }
   ],
   "source": [
    "varFrozenSet = frozenset(varDictValuesList[0].values())\n",
    "\n",
    "print(varFrozenSet)\n",
    "\n",
    "# Igual a Set, mas não permite atualizar, adicionar ou remover conteudo"
   ]
  },
  {
   "cell_type": "code",
   "execution_count": 48,
   "metadata": {},
   "outputs": [
    {
     "ename": "TypeError",
     "evalue": "unhashable type: 'dict'",
     "output_type": "error",
     "traceback": [
      "\u001b[0;31m---------------------------------------------------------------------------\u001b[0m",
      "\u001b[0;31mTypeError\u001b[0m                                 Traceback (most recent call last)",
      "Cell \u001b[0;32mIn[48], line 1\u001b[0m\n\u001b[0;32m----> 1\u001b[0m varFrozenSet \u001b[38;5;241m=\u001b[39m \u001b[38;5;28mfrozenset\u001b[39m(varDictValuesList)\n",
      "\u001b[0;31mTypeError\u001b[0m: unhashable type: 'dict'"
     ]
    }
   ],
   "source": [
    "varFrozenSet = frozenset(varDictValuesList)\n",
    "\n",
    "#Nao permite"
   ]
  },
  {
   "cell_type": "markdown",
   "metadata": {},
   "source": [
    "# Valores com bases diferentes"
   ]
  },
  {
   "cell_type": "code",
   "execution_count": 51,
   "metadata": {},
   "outputs": [],
   "source": [
    "varBin = 0b1010\n",
    "\n",
    "varOct = 0o10\n",
    "\n",
    "varHex = 0xF"
   ]
  },
  {
   "cell_type": "markdown",
   "metadata": {},
   "source": [
    "# 3. Strings\n",
    "## 3.1. Concatenacao Strings"
   ]
  },
  {
   "cell_type": "code",
   "execution_count": 52,
   "metadata": {},
   "outputs": [
    {
     "name": "stdout",
     "output_type": "stream",
     "text": [
      "Python\n"
     ]
    }
   ],
   "source": [
    "print ('Py' + 'thon')"
   ]
  },
  {
   "cell_type": "code",
   "execution_count": 53,
   "metadata": {},
   "outputs": [
    {
     "name": "stdout",
     "output_type": "stream",
     "text": [
      "PyPyPython\n"
     ]
    }
   ],
   "source": [
    "print(3 * 'Py' + 'thon')"
   ]
  },
  {
   "cell_type": "code",
   "execution_count": 55,
   "metadata": {},
   "outputs": [
    {
     "name": "stdout",
     "output_type": "stream",
     "text": [
      "Python\n",
      "Python\n",
      "Python\n",
      "\n"
     ]
    }
   ],
   "source": [
    "print(3 * ('Py' + 'thon' + \"\\n\"))"
   ]
  },
  {
   "cell_type": "markdown",
   "metadata": {},
   "source": [
    "## 3.2 Localizar e extrair secções das strings\n"
   ]
  },
  {
   "cell_type": "code",
   "execution_count": 56,
   "metadata": {},
   "outputs": [
    {
     "name": "stdout",
     "output_type": "stream",
     "text": [
      "['__add__', '__class__', '__contains__', '__delattr__', '__dir__', '__doc__', '__eq__', '__format__', '__ge__', '__getattribute__', '__getitem__', '__getnewargs__', '__getstate__', '__gt__', '__hash__', '__init__', '__init_subclass__', '__iter__', '__le__', '__len__', '__lt__', '__mod__', '__mul__', '__ne__', '__new__', '__reduce__', '__reduce_ex__', '__repr__', '__rmod__', '__rmul__', '__setattr__', '__sizeof__', '__str__', '__subclasshook__', 'capitalize', 'casefold', 'center', 'count', 'encode', 'endswith', 'expandtabs', 'find', 'format', 'format_map', 'index', 'isalnum', 'isalpha', 'isascii', 'isdecimal', 'isdigit', 'isidentifier', 'islower', 'isnumeric', 'isprintable', 'isspace', 'istitle', 'isupper', 'join', 'ljust', 'lower', 'lstrip', 'maketrans', 'partition', 'removeprefix', 'removesuffix', 'replace', 'rfind', 'rindex', 'rjust', 'rpartition', 'rsplit', 'rstrip', 'split', 'splitlines', 'startswith', 'strip', 'swapcase', 'title', 'translate', 'upper', 'zfill']\n"
     ]
    }
   ],
   "source": [
    "word = 'Python'\n",
    "\n",
    "print(dir(word))"
   ]
  },
  {
   "cell_type": "code",
   "execution_count": 60,
   "metadata": {},
   "outputs": [
    {
     "name": "stdout",
     "output_type": "stream",
     "text": [
      "P\n",
      "h\n",
      "n\n"
     ]
    }
   ],
   "source": [
    "print(word[0])\n",
    "\n",
    "print(word[3])\n",
    "\n",
    "print (word[-1])"
   ]
  },
  {
   "cell_type": "markdown",
   "metadata": {},
   "source": [
    "# Definir intervalos de indexação"
   ]
  },
  {
   "cell_type": "code",
   "execution_count": null,
   "metadata": {},
   "outputs": [
    {
     "name": "stdout",
     "output_type": "stream",
     "text": [
      "Pyth\n"
     ]
    }
   ],
   "source": [
    "print(word[0:4]) # Defenição de intervalo de caracteres da string. \n",
    "# Primeiro inicial é sempre inclusico, indice final é sempre exclusivo\n"
   ]
  },
  {
   "cell_type": "code",
   "execution_count": 63,
   "metadata": {},
   "outputs": [
    {
     "name": "stdout",
     "output_type": "stream",
     "text": [
      "Pyt\n",
      "hon\n"
     ]
    }
   ],
   "source": [
    "print(word[:3])\n",
    "\n",
    "print(word[3:])"
   ]
  }
 ],
 "metadata": {
  "kernelspec": {
   "display_name": "base",
   "language": "python",
   "name": "python3"
  },
  "language_info": {
   "codemirror_mode": {
    "name": "ipython",
    "version": 3
   },
   "file_extension": ".py",
   "mimetype": "text/x-python",
   "name": "python",
   "nbconvert_exporter": "python",
   "pygments_lexer": "ipython3",
   "version": "3.12.7"
  }
 },
 "nbformat": 4,
 "nbformat_minor": 2
}
