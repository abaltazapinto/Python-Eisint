{
 "cells": [
  {
   "cell_type": "markdown",
   "metadata": {},
   "source": []
  },
  {
   "cell_type": "markdown",
   "metadata": {},
   "source": [
    "# Exercicio 1"
   ]
  },
  {
   "cell_type": "markdown",
   "metadata": {},
   "source": [
    "1. Crie um programa que através de um input do utilizador, destinga se foi introduzido um numero, um caracter ou um conjunto de caracteres."
   ]
  },
  {
   "cell_type": "code",
   "execution_count": 7,
   "metadata": {},
   "outputs": [
    {
     "name": "stdout",
     "output_type": "stream",
     "text": [
      "Input is a number\n"
     ]
    }
   ],
   "source": [
    "user_input = input(\"Introduza um caracter:\")\n",
    "if user_input.isdigit():\n",
    "    print(\"Input is a number\")\n",
    "elif user_input.replace('.', '', 1).isdigit():\n",
    "    print(\"Input is a float\")\n",
    "elif user_input.isalpha():\n",
    "    print(\"Input is a string (contains only letters)\")\n",
    "elif user_input.isalnum():\n",
    "    print(\"Input is a string (contains letters and numbers)\")\n",
    "elif len(user_input) == 1:\n",
    "    print(\"input is a single character\")"
   ]
  },
  {
   "cell_type": "markdown",
   "metadata": {},
   "source": [
    "# Exercico 2"
   ]
  },
  {
   "cell_type": "markdown",
   "metadata": {},
   "source": [
    "2. Desenvolva um programa que faca ooperacoes de som, subtracao, multiplicacao e divisao de 2 numeros, atraves de um input do utilizador, em que aparece no monitor as instrucoes de utilizacao"
   ]
  },
  {
   "cell_type": "code",
   "execution_count": null,
   "metadata": {},
   "outputs": [
    {
     "name": "stdout",
     "output_type": "stream",
     "text": [
      "A divisao dos dois numeros, oprando 1 6 pelo operando 2 6 é: 3.0\n"
     ]
    }
   ],
   "source": [
    "user_input_2 = input(\"Bem vindo `a super calculadora, que operacao deseja fazer ?\")\n",
    "user_input_numero1_2 = int(input(\"Introduza o primeiro numerando da operacao ?\"))\n",
    "user_input_numero2_2 = int(input(\"Introduza o segundo numerando da operacao ?\"))\n",
    "\n",
    "if user_input_2 == 'soma':\n",
    "    \n",
    "    soma = user_input_numero1_2 + user_input_numero1_2\n",
    "    print(f\"A soma dos dois operandos é {soma}\")\n",
    "elif user_input_2.lower == 'subtracao':\n",
    "    subtracao = user_input_numero1_2 - user_input_numero2_2\n",
    "    print(f\"A subtracao dos dois operando é {subtracao}\")\n",
    "elif user_input_2.lower() == 'divisao':\n",
    "    divisao = user_input_numero1_2 / user_input_numero2_2\n",
    "    print(f\"A divisao dos dois numeros, oprando {user_input_numero1_2} pelo operando {user_input_numero1_2} é: {divisao}\")\n",
    "elif user_input_2.lower() == 'multiplicacao':\n",
    "    multiplicacao = user_input_numero1_2 * user_input_numero2_2\n",
    "    print(f\"A divisao dos dois numeros, oprando 1 pelo operando 2 é: {multiplicacao}\")\n",
    "else:\n",
    "    print(\"Tens de inserir numeros válidos\")"
   ]
  },
  {
   "cell_type": "markdown",
   "metadata": {},
   "source": [
    "# Exercico 3"
   ]
  },
  {
   "cell_type": "markdown",
   "metadata": {},
   "source": [
    "3. Crie uma lista com 10 nomes. Desenvolva um programa em que o utilixador ao coloca rum nome como input, se consta na lista ou não."
   ]
  },
  {
   "cell_type": "code",
   "execution_count": 18,
   "metadata": {},
   "outputs": [
    {
     "name": "stdout",
     "output_type": "stream",
     "text": [
      "Your name is on the list Sergio\n"
     ]
    }
   ],
   "source": [
    "names = [\"Sergio\", \"Fatima\", \"Beatriz\", \"Jonathan\", \"Rachel\", \"Bryan\"]\n",
    "\n",
    "nameOfTheUser =  str(input(\"Como se chama?\").lower())\n",
    "\n",
    "for name in names:\n",
    "    if nameOfTheUser == name.lower():\n",
    "        print(f\"Your name is on the list {name}\")\n",
    "    \n",
    "\n"
   ]
  },
  {
   "cell_type": "markdown",
   "metadata": {},
   "source": [
    "# Exercio 4"
   ]
  },
  {
   "cell_type": "markdown",
   "metadata": {},
   "source": [
    "4. No programa desenvolvidao em 2, aplique o método de funções para as operações aritméticas específicadas."
   ]
  },
  {
   "cell_type": "code",
   "execution_count": null,
   "metadata": {},
   "outputs": [
    {
     "name": "stdout",
     "output_type": "stream",
     "text": [
      "A divisao dos dois numeros, oprando 1 pelo operando 2 é: 6\n"
     ]
    }
   ],
   "source": [
    "def sum(a, b):\n",
    "    return a + b\n",
    "def substraction(a, b):\n",
    "    return a - b\n",
    "def division(a, b):\n",
    "    return a / b\n",
    "def multiplication(a,b):\n",
    "    return a * b\n",
    "\n",
    "user_input_2 = input(\"Bem vindo `a super calculadora, que operacao deseja fazer ?\")\n",
    "user_input_numero1_2 = int(input(\"Introduza o primeiro numerando da operacao ?\"))\n",
    "user_input_numero2_2 = int(input(\"Introduza o segundo numerando da operacao ?\"))\n",
    "\n",
    "if user_input_2 == 'soma':\n",
    "    \n",
    "    soma = sum(user_input_numero1_2, user_input_numero1_2)\n",
    "    print(f\"A soma dos dois operandos é {soma}\")\n",
    "elif user_input_2.lower == 'subtracao':\n",
    "    subtracao = substraction(user_input_numero1_2, user_input_numero2_2)\n",
    "    print(f\"A subtracao dos dois operando é {subtracao}\")\n",
    "elif user_input_2.lower() == 'divisao':\n",
    "    if user_input_numero2_2 != 0:\n",
    "        divisao = division(user_input_numero1_2, user_input_numero2_2)\n",
    "        print(f\"A divisao dos dois numeros, operando {user_input_numero1_2} pelo operando {user_input_numero1_2} é: {divisao}\")\n",
    "elif user_input_2.lower() == 'multiplicacao':\n",
    "    multiplicacao = multiplication(user_input_numero1_2 , user_input_numero2_2)\n",
    "    print(f\"A divisao dos dois numeros, oprando {user_input_numero1_2} pelo operando {user_input_numero2_2} é: {multiplicacao}\")\n",
    "else:\n",
    "    print(\"Tens de inserir numeros válidos\")"
   ]
  },
  {
   "cell_type": "markdown",
   "metadata": {},
   "source": [
    "# Exercicio 5"
   ]
  },
  {
   "cell_type": "markdown",
   "metadata": {},
   "source": [
    "5. No programa dessenvolvido em 4, coloque a opção de o programa estar sempre em execucao. Apenas só com um caracter especifico inserido pelo utilizador o programa termina"
   ]
  },
  {
   "cell_type": "code",
   "execution_count": 7,
   "metadata": {},
   "outputs": [
    {
     "name": "stdout",
     "output_type": "stream",
     "text": [
      "Your name is not on the list: Vfgdsagfds\n",
      "Your name is not on the list: Andre\n",
      "Your name is not on the list: Vitor\n",
      "Your name is not on the list: Alfredo\n",
      "Your name is not on the list: S    er   gi   o\n",
      "Your name is on the list Sergio\n",
      "Encerrando o programa...\n"
     ]
    }
   ],
   "source": [
    "names = [\"Sergio\", \"Fatima\", \"Beatriz\", \"Jonathan\", \"Rachel\", \"Bryan\"]\n",
    "\n",
    "\n",
    "while True:\n",
    "    nameOfTheUser =  input(\"Como se chama?\").strip().lower()\n",
    "    \n",
    "    if (nameOfTheUser == 'zzz'):\n",
    "        print(\"Encerrando o programa...\")\n",
    "        break\n",
    "    \n",
    "    if nameOfTheUser in [name.lower() for name in names]:\n",
    "        print(f\"Your name is on the list {nameOfTheUser.capitalize()}\")\n",
    "    else:\n",
    "        print(f\"Your name is not on the list: {nameOfTheUser.capitalize()}\")\n",
    "    \n"
   ]
  },
  {
   "cell_type": "markdown",
   "metadata": {},
   "source": [
    "# Exercicio 6"
   ]
  },
  {
   "cell_type": "markdown",
   "metadata": {},
   "source": [
    "6. Crie um programa que apresente uma tabela de potencias de 2 e de 3, com numeros de 1 a 10, conforme o seguinte exemplo:\n",
    "+-------+-------+-----------------------+\n",
    "| Numero|Potência de 2 | Potência de 3  |\n",
    "+-------+--------------+----------------+\n",
    "| 1     |       1      |        1       |\n",
    "| 2     |       2      |        2       |\n",
    "| 3     |       3      |        3       |\n",
    "+-------+-------+-----------------------+\n"
   ]
  },
  {
   "cell_type": "code",
   "execution_count": null,
   "metadata": {},
   "outputs": [
    {
     "name": "stdout",
     "output_type": "stream",
     "text": [
      "  Potência de 2 Potência de 3\n",
      "0             1             1\n",
      "1             4             8\n",
      "2             9            27\n"
     ]
    }
   ],
   "source": [
    "import pandas as pd\n",
    "\n",
    "dados = {\n",
    "    \n",
    "    \"Potência de 2\" : [\"1\", \"4\", \"9\"],\n",
    "    \"Potência de 3\" : [\"1\", \"8\", \"27\"]\n",
    "}\n",
    "\n",
    "df = pd.DataFrame(dados)\n",
    "\n",
    "print(df)\n",
    "\n",
    "df.to_csv('tabela_potencias.csv', index=False)\n",
    "\n",
    "with open('tabela_potencias.txt', 'w') as f:\n",
    "    f.write(df.to_string(index=False))"
   ]
  },
  {
   "cell_type": "markdown",
   "metadata": {},
   "source": []
  }
 ],
 "metadata": {
  "kernelspec": {
   "display_name": "base",
   "language": "python",
   "name": "python3"
  },
  "language_info": {
   "codemirror_mode": {
    "name": "ipython",
    "version": 3
   },
   "file_extension": ".py",
   "mimetype": "text/x-python",
   "name": "python",
   "nbconvert_exporter": "python",
   "pygments_lexer": "ipython3",
   "version": "3.12.7"
  }
 },
 "nbformat": 4,
 "nbformat_minor": 2
}
