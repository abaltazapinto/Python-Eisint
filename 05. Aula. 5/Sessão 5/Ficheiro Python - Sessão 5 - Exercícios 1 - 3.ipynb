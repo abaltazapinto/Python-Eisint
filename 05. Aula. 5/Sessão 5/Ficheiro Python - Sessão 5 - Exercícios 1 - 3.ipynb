{
 "cells": [
  {
   "cell_type": "markdown",
   "metadata": {},
   "source": [
    "## Exercício 1"
   ]
  },
  {
   "cell_type": "code",
   "execution_count": null,
   "metadata": {},
   "outputs": [
    {
     "name": "stdout",
     "output_type": "stream",
     "text": [
      "Inseriu um número.\n",
      "Não houve introdução dados\n"
     ]
    }
   ],
   "source": [
    "entrada = input(\"Escreva algo: \")\n",
    "\n",
    "if entrada.isnumeric():\n",
    "    print(\"Inseriu um número.\")\n",
    "if entrada.isalpha() and len(entrada) == 1:\n",
    "    print(\"Inseriu uma caracter.\")\n",
    "if entrada.isalpha() and len(entrada) > 1:\n",
    "    print(\"Inseriu um conjunto de caracteres.\")\n",
    "\n",
    "# Não contempla os numeros do tipo float\n",
    "# Não contempla input vazio"
   ]
  },
  {
   "cell_type": "markdown",
   "metadata": {},
   "source": [
    "## Exercício 2"
   ]
  },
  {
   "cell_type": "code",
   "execution_count": 17,
   "metadata": {},
   "outputs": [
    {
     "ename": "ValueError",
     "evalue": "could not convert string to float: '15+15'",
     "output_type": "error",
     "traceback": [
      "\u001b[1;31m---------------------------------------------------------------------------\u001b[0m",
      "\u001b[1;31mValueError\u001b[0m                                Traceback (most recent call last)",
      "Cell \u001b[1;32mIn[17], line 1\u001b[0m\n\u001b[1;32m----> 1\u001b[0m num1 \u001b[38;5;241m=\u001b[39m \u001b[38;5;28mfloat\u001b[39m(\u001b[38;5;28minput\u001b[39m(\u001b[38;5;124m'\u001b[39m\u001b[38;5;124mIntroduza o primeiro numero\u001b[39m\u001b[38;5;124m'\u001b[39m))\n\u001b[0;32m      2\u001b[0m num2_aux \u001b[38;5;241m=\u001b[39m \u001b[38;5;28minput\u001b[39m(\u001b[38;5;124m'\u001b[39m\u001b[38;5;124mIntroduza o segundo numero\u001b[39m\u001b[38;5;124m'\u001b[39m)\n\u001b[0;32m      3\u001b[0m num2 \u001b[38;5;241m=\u001b[39m \u001b[38;5;28mfloat\u001b[39m(num2_aux)\n",
      "\u001b[1;31mValueError\u001b[0m: could not convert string to float: '15+15'"
     ]
    }
   ],
   "source": [
    "num1 = float(input('Introduza o primeiro numero'))\n",
    "num2_aux = input('Introduza o segundo numero')\n",
    "num2 = float(num2_aux)\n",
    "\n",
    "operador = input('Indroduza o operador.\\n+ Soma\\n- Subtração\\n* Multiplicação\\n/ Divisão')\n",
    "\n",
    "if operador == '+':\n",
    "     resultado = num1 + num2\n",
    "if operador == '-':\n",
    "    resultado = num1 - num2\n",
    "if operador == '*':\n",
    "    resultado = num1 * num2\n",
    "if operador == '/':\n",
    "    if num2 != 0:\n",
    "        resultado = num1 / num2\n",
    "    else:\n",
    "        resultado = 'NaN' # NaN: Not a Number\n",
    "\n",
    "print(f'Resultado: {resultado}')\n"
   ]
  },
  {
   "cell_type": "markdown",
   "metadata": {},
   "source": [
    "## Exercício 3"
   ]
  },
  {
   "cell_type": "code",
   "execution_count": 19,
   "metadata": {},
   "outputs": [
    {
     "name": "stdout",
     "output_type": "stream",
     "text": [
      "O nome Bea não consta na lista actual.\n"
     ]
    }
   ],
   "source": [
    "nomes = [\"Sergio\", \"Fatima\", \"Beatriz\", \"Ines\", \"Tico\", \"Tobias\", \"Bruno\", \"Laura\", \"Carlos\", \"Irene\"]\n",
    "nome = input(\"Digite um nome para verificar se está na lista: \")\n",
    "if nome in nomes:\n",
    "    print(\"O nome\", nome, \"está na lista.\")\n",
    "else:\n",
    "    print(\"O nome\", nome, \"não consta na lista actual.\")"
   ]
  }
 ],
 "metadata": {
  "kernelspec": {
   "display_name": "UFCD_10793_3_N",
   "language": "python",
   "name": "python3"
  },
  "language_info": {
   "codemirror_mode": {
    "name": "ipython",
    "version": 3
   },
   "file_extension": ".py",
   "mimetype": "text/x-python",
   "name": "python",
   "nbconvert_exporter": "python",
   "pygments_lexer": "ipython3",
   "version": "3.12.7"
  },
  "orig_nbformat": 4
 },
 "nbformat": 4,
 "nbformat_minor": 2
}
