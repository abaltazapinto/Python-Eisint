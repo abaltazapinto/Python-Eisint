{
 "cells": [
  {
   "cell_type": "markdown",
   "metadata": {},
   "source": [
    "Aprendemos na aula sobre streamlit e data plotly para fazer data apps. \n",
    "\n",
    "\n",
    "aplicacao de Kivy (aprender mais sobre isto cross platform)\n",
    "\n",
    "pytohn qt\n",
    "    Combinacao Python e Qt: Quando cocê combina Python com Qt, você pode aproveitar as vantagens de ambas tecnologias. Com Qt, você pode criar UIs atraentes e personalizaqveis, enquanto com Python, vocÊ pode implementar a logicidade de negócios e integração com base de dados e serviços web.\n",
    "\n"
   ]
  },
  {
   "cell_type": "markdown",
   "metadata": {},
   "source": [
    "pass usar em situacoes de el - if \n",
    "\n",
    "if (sadsa):\n",
    "    pass\n",
    "\n"
   ]
  },
  {
   "cell_type": "markdown",
   "metadata": {},
   "source": []
  },
  {
   "cell_type": "markdown",
   "metadata": {},
   "source": []
  },
  {
   "cell_type": "markdown",
   "metadata": {},
   "source": [
    "# 1.4. Condicao IF-ELIF-ELSE"
   ]
  },
  {
   "cell_type": "markdown",
   "metadata": {},
   "source": []
  }
 ],
 "metadata": {
  "language_info": {
   "name": "python"
  }
 },
 "nbformat": 4,
 "nbformat_minor": 2
}
