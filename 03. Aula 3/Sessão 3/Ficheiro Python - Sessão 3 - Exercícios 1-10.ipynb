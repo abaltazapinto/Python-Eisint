{
 "cells": [
  {
   "cell_type": "markdown",
   "metadata": {},
   "source": [
    "## Exercício 1"
   ]
  },
  {
   "cell_type": "code",
   "execution_count": 1,
   "metadata": {},
   "outputs": [],
   "source": [
    "x = 123234432432"
   ]
  },
  {
   "cell_type": "markdown",
   "metadata": {},
   "source": [
    "### Exercício 2"
   ]
  },
  {
   "cell_type": "code",
   "execution_count": 2,
   "metadata": {},
   "outputs": [],
   "source": [
    "nome = str(1561681556)"
   ]
  },
  {
   "cell_type": "markdown",
   "metadata": {},
   "source": [
    "### Exercício 3"
   ]
  },
  {
   "cell_type": "code",
   "execution_count": 3,
   "metadata": {},
   "outputs": [
    {
     "name": "stdout",
     "output_type": "stream",
     "text": [
      "<class 'str'>\n"
     ]
    }
   ],
   "source": [
    "flt = 1.3\n",
    "\n",
    "flt_str = str(flt)\n",
    "\n",
    "print(type(flt_str))"
   ]
  },
  {
   "cell_type": "code",
   "execution_count": 14,
   "metadata": {},
   "outputs": [
    {
     "data": {
      "text/plain": [
       "str"
      ]
     },
     "execution_count": 14,
     "metadata": {},
     "output_type": "execute_result"
    }
   ],
   "source": [
    "type(flt_str)\n"
   ]
  },
  {
   "cell_type": "markdown",
   "metadata": {},
   "source": [
    "### Exercício 4"
   ]
  },
  {
   "cell_type": "code",
   "execution_count": 15,
   "metadata": {},
   "outputs": [
    {
     "data": {
      "text/plain": [
       "'\\nRespostas corretas\\n\\nA) C) F)\\n\\n\\n'"
      ]
     },
     "execution_count": 15,
     "metadata": {},
     "output_type": "execute_result"
    }
   ],
   "source": [
    "'''\n",
    "Respostas corretas\n",
    "\n",
    "A) C) F)\n",
    "\n",
    "\n",
    "'''"
   ]
  },
  {
   "cell_type": "markdown",
   "metadata": {},
   "source": [
    "### Exercício 5"
   ]
  },
  {
   "cell_type": "code",
   "execution_count": 16,
   "metadata": {},
   "outputs": [
    {
     "name": "stdout",
     "output_type": "stream",
     "text": [
      "A variável introduzida foi Joao\n",
      "O tipo de variável introduzido é\n",
      "<class 'str'>\n"
     ]
    }
   ],
   "source": [
    "userInput = input(\"Introduza o seu nome\")\n",
    "print(\"A variável introduzida foi \" + userInput + \"\\nO tipo de variável introduzido é\\n\" + str(type(userInput)))\n"
   ]
  },
  {
   "cell_type": "code",
   "execution_count": 17,
   "metadata": {},
   "outputs": [
    {
     "name": "stdout",
     "output_type": "stream",
     "text": [
      "A variável introduzida foi Joao\n",
      "O tipo de variável introduzido é\n",
      " <class 'str'>\n"
     ]
    }
   ],
   "source": [
    "print(\"A variável introduzida foi \" + userInput + \"\\nO tipo de variável introduzido é\\n\",type(userInput))"
   ]
  },
  {
   "cell_type": "code",
   "execution_count": 18,
   "metadata": {},
   "outputs": [
    {
     "data": {
      "text/plain": [
       "str"
      ]
     },
     "execution_count": 18,
     "metadata": {},
     "output_type": "execute_result"
    }
   ],
   "source": [
    "type(userInput)"
   ]
  },
  {
   "cell_type": "markdown",
   "metadata": {},
   "source": [
    "### Exercício 6"
   ]
  },
  {
   "cell_type": "code",
   "execution_count": 4,
   "metadata": {},
   "outputs": [],
   "source": [
    "var1 = var2 = var3 = 'João'"
   ]
  },
  {
   "cell_type": "markdown",
   "metadata": {},
   "source": [
    "### Exercício 7"
   ]
  },
  {
   "cell_type": "code",
   "execution_count": 5,
   "metadata": {},
   "outputs": [
    {
     "name": "stdout",
     "output_type": "stream",
     "text": [
      "Programar\n",
      "em\n",
      "Python\n",
      "é\n",
      "espetacular\n"
     ]
    }
   ],
   "source": [
    "var1 ='Programar'\n",
    "var2 ='em'\n",
    "var3 ='Python'\n",
    "var4 ='é'\n",
    "var5 ='espetacular'\n",
    "\n",
    "var1 , var2 , var3 , var4 , var5 = 'Programar', 'em','Python','é','espetacular'\n",
    "\n",
    "print(var1 + '\\n' + var2 + '\\n' + var3+ '\\n' + var4 + '\\n' + var5)\n",
    "\n",
    "#print(var1 , '\\n' , var2 + '\\n' , var3 , '\\n' , var4 , '\\n' , var5)\n"
   ]
  },
  {
   "cell_type": "markdown",
   "metadata": {},
   "source": [
    "### Exercício 8"
   ]
  },
  {
   "cell_type": "code",
   "execution_count": 6,
   "metadata": {},
   "outputs": [
    {
     "name": "stdout",
     "output_type": "stream",
     "text": [
      "6\n"
     ]
    }
   ],
   "source": [
    "var1 , var2 , var3 = 1, 2 ,3\n",
    "\n",
    "print(var1 + var2 + var3)"
   ]
  },
  {
   "cell_type": "markdown",
   "metadata": {},
   "source": [
    "### Exercício 9"
   ]
  },
  {
   "cell_type": "code",
   "execution_count": 22,
   "metadata": {},
   "outputs": [
    {
     "name": "stdout",
     "output_type": "stream",
     "text": [
      "Modo referências\n",
      "O seu nome é Joao Araujo,\n",
      "com 40 de idade\n",
      "e tem 78.3 kg.\n",
      "Modo fstring\n",
      "O seu nome é Joao Araujo,\n",
      "com 40 de idade\n",
      "e tem 78.3 kg.\n",
      "Modo format\n",
      "O seu nome é Joao Araujo,\n",
      "com 40 de idade\n",
      "e tem 78.3 kg.\n"
     ]
    }
   ],
   "source": [
    "pnome = input('Introduza o seu primeiro nome:')\n",
    "unome = input('Introduza o seu ultimo nome:')\n",
    "idade = int(input('Introduza a sua idade:'))\n",
    "peso = float(input('Introduza o seu peso:'))\n",
    "\n",
    "\n",
    "print(\"Modo referências\\nO seu nome é %s %s,\\ncom %d de idade\\ne tem %0.1f kg.\" % (pnome, unome, idade, peso ))\n",
    "\n",
    "# %d ou %i corresponde a uma variável do tipo inteiro\n",
    "\n",
    "print(f\"Modo fstring\\nO seu nome é {pnome} {unome},\\ncom {idade} de idade\\ne tem {peso} kg.\")\n",
    "\n",
    "print(\"Modo format\\nO seu nome é {} {},\\ncom {} de idade\\ne tem {} kg.\".format(pnome,unome,idade,peso))\n"
   ]
  },
  {
   "cell_type": "markdown",
   "metadata": {},
   "source": [
    "### Exercício 10"
   ]
  },
  {
   "cell_type": "code",
   "execution_count": 7,
   "metadata": {},
   "outputs": [
    {
     "name": "stdout",
     "output_type": "stream",
     "text": [
      "João\n"
     ]
    }
   ],
   "source": [
    "lista = ['Olá','o','meu', 'nome', 'é', 'João']\n",
    "\n",
    "#Fazer print do elemento João\n",
    "print(lista[5])"
   ]
  },
  {
   "cell_type": "code",
   "execution_count": 8,
   "metadata": {},
   "outputs": [
    {
     "name": "stdout",
     "output_type": "stream",
     "text": [
      "João\n"
     ]
    }
   ],
   "source": [
    "userLista = []\n",
    "userLista.append(input('Introduza o primeiro elemento'))\n",
    "userLista.append(input('Introduza o segundo elemento'))\n",
    "userLista.append(input('Introduza o terceiro elemento'))\n",
    "userLista.append(input('Introduza o quarto elemento'))\n",
    "userLista.append(input('Introduza o cinco elemento'))\n",
    "userLista.append(input('Introduza o sexto elemento'))\n",
    "\n",
    "print(userLista[5])\n",
    "\n"
   ]
  },
  {
   "cell_type": "code",
   "execution_count": 9,
   "metadata": {},
   "outputs": [
    {
     "name": "stdout",
     "output_type": "stream",
     "text": [
      "9\n"
     ]
    }
   ],
   "source": [
    "var1 = input('Introduza o primeiro elemento')\n",
    "var2 = input('Introduza o segundo elemento')\n",
    "var3 = input('Introduza o terceiro elemento')\n",
    "var4 = input('Introduza o quarto elemento')\n",
    "var5 = input('Introduza o quinto elemento')\n",
    "\n",
    "userlista2 = [var1,var2,var3,var4,var5]\n",
    "\n",
    "print(userlista2[4])"
   ]
  },
  {
   "cell_type": "code",
   "execution_count": null,
   "metadata": {},
   "outputs": [
    {
     "ename": "ValueError",
     "evalue": "invalid literal for int() with base 10: 'hj'",
     "output_type": "error",
     "traceback": [
      "\u001b[1;31m---------------------------------------------------------------------------\u001b[0m",
      "\u001b[1;31mValueError\u001b[0m                                Traceback (most recent call last)",
      "Cell \u001b[1;32mIn[11], line 1\u001b[0m\n\u001b[1;32m----> 1\u001b[0m userlista3 \u001b[38;5;241m=\u001b[39m [\u001b[38;5;28mint\u001b[39m(\u001b[38;5;28minput\u001b[39m(\u001b[38;5;124m'\u001b[39m\u001b[38;5;124mIntroduza o primeiro elemento\u001b[39m\u001b[38;5;124m'\u001b[39m)),\u001b[38;5;28minput\u001b[39m(\u001b[38;5;124m'\u001b[39m\u001b[38;5;124mIntroduza o segundo elemento\u001b[39m\u001b[38;5;124m'\u001b[39m),\u001b[38;5;28minput\u001b[39m(\u001b[38;5;124m'\u001b[39m\u001b[38;5;124mIntroduza o terceiro elemento\u001b[39m\u001b[38;5;124m'\u001b[39m),\u001b[38;5;28minput\u001b[39m(\u001b[38;5;124m'\u001b[39m\u001b[38;5;124mIntroduza o quarto elemento\u001b[39m\u001b[38;5;124m'\u001b[39m),\u001b[38;5;28minput\u001b[39m(\u001b[38;5;124m'\u001b[39m\u001b[38;5;124mIntroduza o quinto elemento\u001b[39m\u001b[38;5;124m'\u001b[39m)]\n\u001b[0;32m      3\u001b[0m \u001b[38;5;28mprint\u001b[39m(userlista3[\u001b[38;5;241m1\u001b[39m])\n",
      "\u001b[1;31mValueError\u001b[0m: invalid literal for int() with base 10: 'hj'"
     ]
    }
   ],
   "source": [
    "userlista3 = [input('Introduza o primeiro elemento'),input('Introduza o segundo elemento'),input('Introduza o terceiro elemento'),input('Introduza o quarto elemento'),input('Introduza o quinto elemento')]\n",
    "\n",
    "print(userlista3[1])"
   ]
  }
 ],
 "metadata": {
  "kernelspec": {
   "display_name": "UFCD_10793_3_N",
   "language": "python",
   "name": "python3"
  },
  "language_info": {
   "codemirror_mode": {
    "name": "ipython",
    "version": 3
   },
   "file_extension": ".py",
   "mimetype": "text/x-python",
   "name": "python",
   "nbconvert_exporter": "python",
   "pygments_lexer": "ipython3",
   "version": "3.12.7"
  },
  "orig_nbformat": 4
 },
 "nbformat": 4,
 "nbformat_minor": 2
}
